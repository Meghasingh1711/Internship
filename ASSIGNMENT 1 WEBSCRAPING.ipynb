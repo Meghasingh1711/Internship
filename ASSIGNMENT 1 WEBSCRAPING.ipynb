{
 "cells": [
  {
   "cell_type": "code",
   "execution_count": 1,
   "id": "21d7cbe1",
   "metadata": {},
   "outputs": [
    {
     "name": "stdout",
     "output_type": "stream",
     "text": [
      "Requirement already satisfied: bs4 in c:\\users\\asus\\anaconda3\\lib\\site-packages (0.0.1)\n",
      "Requirement already satisfied: beautifulsoup4 in c:\\users\\asus\\anaconda3\\lib\\site-packages (from bs4) (4.12.2)\n",
      "Requirement already satisfied: soupsieve>1.2 in c:\\users\\asus\\anaconda3\\lib\\site-packages (from beautifulsoup4->bs4) (2.4)\n"
     ]
    }
   ],
   "source": [
    "!pip install bs4"
   ]
  },
  {
   "cell_type": "code",
   "execution_count": 2,
   "id": "f49557b3",
   "metadata": {},
   "outputs": [
    {
     "name": "stdout",
     "output_type": "stream",
     "text": [
      "Requirement already satisfied: requests in c:\\users\\asus\\anaconda3\\lib\\site-packages (2.31.0)\n",
      "Requirement already satisfied: charset-normalizer<4,>=2 in c:\\users\\asus\\anaconda3\\lib\\site-packages (from requests) (2.0.4)\n",
      "Requirement already satisfied: idna<4,>=2.5 in c:\\users\\asus\\anaconda3\\lib\\site-packages (from requests) (3.4)\n",
      "Requirement already satisfied: urllib3<3,>=1.21.1 in c:\\users\\asus\\anaconda3\\lib\\site-packages (from requests) (1.26.16)\n",
      "Requirement already satisfied: certifi>=2017.4.17 in c:\\users\\asus\\anaconda3\\lib\\site-packages (from requests) (2023.11.17)\n"
     ]
    }
   ],
   "source": [
    "!pip install requests"
   ]
  },
  {
   "cell_type": "code",
   "execution_count": 1,
   "id": "7b07ed74",
   "metadata": {},
   "outputs": [],
   "source": [
    "# importing the required libraries\n",
    "from bs4 import BeautifulSoup\n",
    "import requests"
   ]
  },
  {
   "cell_type": "code",
   "execution_count": 2,
   "id": "27edb7b6",
   "metadata": {},
   "outputs": [],
   "source": [
    "#Question 7"
   ]
  },
  {
   "cell_type": "code",
   "execution_count": null,
   "id": "e379ddad",
   "metadata": {},
   "outputs": [],
   "source": [
    "#Send a GET request to the Wikipedia page"
   ]
  },
  {
   "cell_type": "code",
   "execution_count": 10,
   "id": "3aa32728",
   "metadata": {},
   "outputs": [],
   "source": [
    "page = requests.get('https://www.dineout.co.in/delhi-restraurants/buffet-special')"
   ]
  },
  {
   "cell_type": "code",
   "execution_count": 11,
   "id": "84d8bbc2",
   "metadata": {},
   "outputs": [
    {
     "data": {
      "text/plain": [
       "<Response [404]>"
      ]
     },
     "execution_count": 11,
     "metadata": {},
     "output_type": "execute_result"
    }
   ],
   "source": [
    "page"
   ]
  },
  {
   "cell_type": "code",
   "execution_count": 12,
   "id": "595d0367",
   "metadata": {},
   "outputs": [],
   "source": [
    "#create page content"
   ]
  },
  {
   "cell_type": "code",
   "execution_count": 14,
   "id": "b7276428",
   "metadata": {},
   "outputs": [
    {
     "data": {
      "text/plain": [
       "<!DOCTYPE html>\n",
       "<html lang=\"en\"><head><meta charset=\"utf-8\"/><meta content=\"IE=edge\" http-equiv=\"X-UA-Compatible\"/><meta content=\"yes\" name=\"full-screen\"/><meta content=\"#FFFFFF\" name=\"theme-color\"/><meta content=\"yes\" name=\"mobile-web-app-capable\"/><meta content=\"yes\" name=\"apple-mobile-web-app-capable\"/><meta content=\"default\" name=\"apple-mobile-web-app-status-bar-style\"/><meta content=\"Dineout\" name=\"apple-mobile-web-app-title\"/><link href=\"/static/img/favicon.ico\" rel=\"icon\" type=\"image/x-icon\"/><link href=\"https://im1.dineout.co.in/images/uploads/misc/2019/Apr/26/android-icon-192r.png\" rel=\"icon\" sizes=\"192x192\"/><link href=\"https://im1.dineout.co.in/images/uploads/misc/2019/Apr/26/android-icon-192r.png\" rel=\"apple-touch-icon\" sizes=\"192x192\"/><meta content=\"CTeXuUDPJxcVXw2x0JZKk4dthXMp1kunCryiPzse1Uk\" name=\"google-site-verification\"/><link href=\"https://dn1.dineout-cdn.co.in\" rel=\"preconnect\"/><link href=\"https://im1.dineout.co.in\" rel=\"preconnect\"/><link href=\"https://wp.dineout.co.in\" rel=\"preconnect\"/><link href=\"https://wzrkt.com\" rel=\"preconnect\"/><link href=\"https://d2r1yp2w7bby2u.cloudfront.net\" rel=\"preconnect\"/><link href=\"https://s3-eu-west-1.amazonaws.com\" rel=\"preconnect\"/><link href=\"https://connect.facebook.net\" rel=\"preconnect\"/><link href=\"https://www.google-analytics.com\" rel=\"preconnect\"/><link href=\"https://st1.dineout-cdn.co.in\" rel=\"dns-prefetch\"/><link href=\"https://dn1.dineout-cdn.co.in\" rel=\"dns-prefetch\"/><link href=\"https://im1.dineout.co.in\" rel=\"dns-prefetch\"/><link href=\"https://wp.dineout.co.in\" rel=\"dns-prefetch\"/><link href=\"https://wzrkt.com\" rel=\"dns-prefetch\"/><link href=\"https://d2r1yp2w7bby2u.cloudfront.net\" rel=\"dns-prefetch\"/><link href=\"https://s3-eu-west-1.amazonaws.com\" rel=\"dns-prefetch\"/><link href=\"https://connect.facebook.net\" rel=\"dns-prefetch\"/><link href=\"https://www.google-analytics.com\" rel=\"dns-prefetch\"/><link href=\"https://st2.dineout-cdn.co.in\" rel=\"dns-prefetch\"/><link href=\"https://st3.dineout-cdn.co.in\" rel=\"dns-prefetch\"/><link href=\"https://st4.dineout-cdn.co.in\" rel=\"dns-prefetch\"/><link href=\"https://www.google.com\" rel=\"dns-prefetch\"/><link href=\"https://www.googletagmanager.com\" rel=\"dns-prefetch\"/><link href=\"https://www.googleadservices.com\" rel=\"dns-prefetch\"/><link href=\"https://googleads.g.doubleclick.net\" rel=\"dns-prefetch\"/><link href=\"https://www.google.co.in\" rel=\"dns-prefetch\"/><link href=\"https://stats.g.doubleclick.net\" rel=\"dns-prefetch\"/><link href=\"https://apis.google.com\" rel=\"dns-prefetch\"/><link href=\"https://maps.googleapis.com\" rel=\"dns-prefetch\"/><link href=\"https://accounts.google.com\" rel=\"dns-prefetch\"/><link href=\"https://oauth.googleusercontent.com\" rel=\"dns-prefetch\"/><link href=\"https://ssl.gstatic.com\" rel=\"dns-prefetch\"/><link href=\"https://static.ak.facebook.com\" rel=\"dns-prefetch\"/><link href=\"https://s-static.ak.facebook.com\" rel=\"dns-prefetch\"/><link href=\"https://sb.scorecardresearch.com\" rel=\"dns-prefetch\"/><link href=\"https://www.facebook.com\" rel=\"dns-prefetch\"/><link href=\"https://cdn.branch.io\" rel=\"dns-prefetch\"/><link href=\"https://api2.branch.io\" rel=\"dns-prefetch\"/><link href=\"https://maps.gstatic.com\" rel=\"dns-prefetch\"/><link href=\"https://www.gstatic.com\" rel=\"dns-prefetch\"/><link href=\"https://app.link\" rel=\"dns-prefetch\"/><link href=\"/static/manifest.json\" rel=\"manifest\"/><script type=\"text/javascript\">!function(){if(!window.BOOMR||!window.BOOMR.version&&!window.BOOMR.snippetExecuted){window.BOOMR=window.BOOMR||{},window.BOOMR.snippetStart=(new Date).getTime(),window.BOOMR.snippetExecuted=!0,window.BOOMR.snippetVersion=14,window.BOOMR.url=\"https://s.go-mpulse.net/boomerang/EPHHV-5AYCN-4JBH4-9392U-ZDFZV\";var e=(document.currentScript||document.getElementsByTagName(\"script\")[0]).parentNode,n=!1,t=document.createElement(\"link\");t.relList&&\"function\"==typeof t.relList.supports&&t.relList.supports(\"preload\")&&\"as\"in t?(window.BOOMR.snippetMethod=\"p\",t.href=window.BOOMR.url,t.rel=\"preload\",t.as=\"script\",t.addEventListener(\"load\",function(){if(!n){var t=document.createElement(\"script\");t.id=\"boomr-scr-as\",t.src=window.BOOMR.url,t.async=!0,e.appendChild(t),n=!0}}),t.addEventListener(\"error\",function(){o(!0)}),setTimeout(function(){n||o(!0)},3e3),BOOMR_lstart=(new Date).getTime(),e.appendChild(t)):o(!1),window.addEventListener?window.addEventListener(\"load\",i,!1):window.attachEvent&&window.attachEvent(\"onload\",i)}function o(t){n=!0;var o,i,d,a,r=document,w=window;if(window.BOOMR.snippetMethod=t?\"if\":\"i\",i=function(e,n){var t=r.createElement(\"script\");t.id=n||\"boomr-if-as\",t.src=window.BOOMR.url,BOOMR_lstart=(new Date).getTime(),(e=e||r.body).appendChild(t)},!window.addEventListener&&window.attachEvent&&navigator.userAgent.match(/MSIE [67]./))return window.BOOMR.snippetMethod=\"s\",void i(e,\"boomr-async\");(d=document.createElement(\"IFRAME\")).src=\"about:blank\",d.title=\"\",d.role=\"presentation\",d.loading=\"eager\",(a=(d.frameElement||d).style).width=0,a.height=0,a.border=0,a.display=\"none\",e.appendChild(d);try{w=d.contentWindow,r=w.document.open()}catch(e){o=document.domain,d.src=\"javascript:var d=document.open();d.domain='\"+o+\"';void 0;\",w=d.contentWindow,r=w.document.open()}o?(r._boomrl=function(){this.domain=o,i()},r.write(\"<body onload='document._boomrl();'>\")):(w._boomrl=function(){i()},w.addEventListener?w.addEventListener(\"load\",w._boomrl,!1):w.attachEvent&&w.attachEvent(\"onload\",w._boomrl)),r.close()}function i(e){window.BOOMR_onload=e&&e.timeStamp||(new Date).getTime()}}();</script><meta charset=\"utf-8\"/><meta content=\"width=device-width, initial-scale=1.0, minimum-scale=1.0, maximum-scale=1.0, user-scalable=no\" name=\"viewport\"/><script async=\"\" src=\"https://dn1.dineout-cdn.co.in/js/countly-385be3ca26.min.js\" type=\"text/javascript\"></script><title>404 Page Not Found | Dineout</title><meta name=\"description\"/><link href=\"https://dineout.co.in/not_found\" rel=\"canonical\"/><link as=\"style\" crossorigin=\"anonymous\" href=\"https://dn1.dineout-cdn.co.in/_next/static/css/80.56ecc3db7d74c469286b.css\" rel=\"preload\"/><link crossorigin=\"anonymous\" data-n-g=\"\" href=\"https://dn1.dineout-cdn.co.in/_next/static/css/80.56ecc3db7d74c469286b.css\" rel=\"stylesheet\"/><link as=\"style\" crossorigin=\"anonymous\" href=\"https://dn1.dineout-cdn.co.in/_next/static/css/110.56ecc3db7d74c469286b.css\" rel=\"preload\"/><link crossorigin=\"anonymous\" data-n-p=\"\" href=\"https://dn1.dineout-cdn.co.in/_next/static/css/110.56ecc3db7d74c469286b.css\" rel=\"stylesheet\"/><noscript data-n-css=\"true\"></noscript><link as=\"script\" crossorigin=\"anonymous\" href=\"https://dn1.dineout-cdn.co.in/_next/static/chunks/190.29dfe00835bc0b276924.js\" rel=\"preload\"/><link as=\"script\" crossorigin=\"anonymous\" href=\"https://dn1.dineout-cdn.co.in/_next/static/chunks/38.921ce4e0df3f27898736.js\" rel=\"preload\"/><link as=\"script\" crossorigin=\"anonymous\" href=\"https://dn1.dineout-cdn.co.in/_next/static/chunks/19.08c2a017950ea8dc1854.js\" rel=\"preload\"/><link as=\"script\" crossorigin=\"anonymous\" href=\"https://dn1.dineout-cdn.co.in/_next/static/chunks/42.7e7fac0c86574c2e0167.js\" rel=\"preload\"/><link as=\"script\" crossorigin=\"anonymous\" href=\"https://dn1.dineout-cdn.co.in/_next/static/chunks/35.0737350d22a26f20cc1e.js\" rel=\"preload\"/><link as=\"script\" crossorigin=\"anonymous\" href=\"https://dn1.dineout-cdn.co.in/_next/static/chunks/37.5e823a0a0dd5bccbb1d0.js\" rel=\"preload\"/><link as=\"script\" crossorigin=\"anonymous\" href=\"https://dn1.dineout-cdn.co.in/_next/static/chunks/41.15d64f63c593d4c52815.js\" rel=\"preload\"/><link as=\"script\" crossorigin=\"anonymous\" href=\"https://dn1.dineout-cdn.co.in/_next/static/chunks/main-938c2b651d2295ff85c6.js\" rel=\"preload\"/><link as=\"script\" crossorigin=\"anonymous\" href=\"https://dn1.dineout-cdn.co.in/_next/static/chunks/webpack-07b573c72850bb90d34b.js\" rel=\"preload\"/><link as=\"script\" crossorigin=\"anonymous\" href=\"https://dn1.dineout-cdn.co.in/_next/static/chunks/framework.97fa84ef20540191e268.js\" rel=\"preload\"/><link as=\"script\" crossorigin=\"anonymous\" href=\"https://dn1.dineout-cdn.co.in/_next/static/chunks/e0a20092a955dd57c8f77fd0038a6e86fb2cd834.d18b4cd5b9181f9df943.js\" rel=\"preload\"/><link as=\"script\" crossorigin=\"anonymous\" href=\"https://dn1.dineout-cdn.co.in/_next/static/chunks/ec70516c3713d024099e871a8920b25b394a9a68.56b8097f8c1fbac35a33.js\" rel=\"preload\"/><link as=\"script\" crossorigin=\"anonymous\" href=\"https://dn1.dineout-cdn.co.in/_next/static/chunks/2a9e534028e6e35175acb4c10f7a083333896c71.0b79bf790a5c6b4d24eb.js\" rel=\"preload\"/><link as=\"script\" crossorigin=\"anonymous\" href=\"https://dn1.dineout-cdn.co.in/_next/static/chunks/8fd36ce948ca388cbd662e9141bcc24ec2109866.5ea802800d7a372fba8f.js\" rel=\"preload\"/><link as=\"script\" crossorigin=\"anonymous\" href=\"https://dn1.dineout-cdn.co.in/_next/static/chunks/5d63be1fc31c50ed26d99b1bd01d59a563557d58.e665dbe8ad6e1f138689.js\" rel=\"preload\"/><link as=\"script\" crossorigin=\"anonymous\" href=\"https://dn1.dineout-cdn.co.in/_next/static/chunks/88309753a87497e60808da84322912ecbf125871.dd55e564ef594f7319c6.js\" rel=\"preload\"/><link as=\"script\" crossorigin=\"anonymous\" href=\"https://dn1.dineout-cdn.co.in/_next/static/chunks/b667d57298fef32cd2b0a8cf68e78f9e2f062f56.f781b24890d3d130b9d2.js\" rel=\"preload\"/><link as=\"script\" crossorigin=\"anonymous\" href=\"https://dn1.dineout-cdn.co.in/_next/static/chunks/f6078781a05fe1bcb0902d23dbbb2662c8d200b3.727f13e8796621b269c5.js\" rel=\"preload\"/><link as=\"script\" crossorigin=\"anonymous\" href=\"https://dn1.dineout-cdn.co.in/_next/static/chunks/895fc371e448b7c7de6d7ac9ed17fb947ae1f963.e61abb7638698ed3eade.js\" rel=\"preload\"/><link as=\"script\" crossorigin=\"anonymous\" href=\"https://dn1.dineout-cdn.co.in/_next/static/chunks/pages/_app-1b5b282b4857edbc94e4.js\" rel=\"preload\"/><link as=\"script\" crossorigin=\"anonymous\" href=\"https://dn1.dineout-cdn.co.in/_next/static/chunks/106eaa6e25e59f5af13bcf8f662f978828e584f5.c8dfbd2c034cdd120f42.js\" rel=\"preload\"/><link as=\"script\" crossorigin=\"anonymous\" href=\"https://dn1.dineout-cdn.co.in/_next/static/chunks/pages/responsive/404/view-905908b853008ef24cf7.js\" rel=\"preload\"/><style data-styled=\"\" data-styled-version=\"4.4.1\"></style></head><body data-theme=\"darks\"><div id=\"__next\"><div class=\"_1elQp\"><span></span></div><div class=\"_2RzOg\"><div class=\"_3mYmK\"><div></div><div></div><div></div><div></div></div></div><header class=\"_20x6M clearfix _15MB6\"><div class=\"_1Js9H\"><div class=\"_27W3p\"><img alt=\"Swiggy Dineout\" class=\"_27W3p\" height=\"34\" src=\"https://im1.dineout.co.in/images/uploads/misc/2023/Jun/19/swiggy_dineout_logo.png\" title=\"Swiggy Dineout\" width=\"125\"/></div><div class=\"_2Q14K\"><span class=\"Vuzv6\"><svg height=\"15\" viewbox=\"0 0 10 13\" width=\"15\" xmlns=\"http://www.w3.org/2000/svg\"><path d=\"M5 0a5 5 0 0 1 5 5c0 1.826-.84 3.618-2.213 5.246C6.776 11.446 5.501 12.5 5 12.5c-.501 0-1.776-1.053-2.787-2.254C.84 8.618 0 6.826 0 5a5 5 0 0 1 5-5zm0 1.25A3.75 3.75 0 0 0 1.25 5c0 1.484.72 3.017 1.919 4.441.452.537.948 1.024 1.409 1.405.185.154.422.325.422.325s.263-.193.422-.325c.461-.38.957-.868 1.41-1.405C8.03 8.017 8.75 6.484 8.75 5A3.75 3.75 0 0 0 5 1.25zm0 1.875a1.875 1.875 0 1 1 0 3.75 1.875 1.875 0 0 1 0-3.75zm0 1.25a.625.625 0 1 0 0 1.25.625.625 0 0 0 0-1.25z\" fill=\"#666\" fill-rule=\"nonzero\"></path></svg></span><span class=\"_1sHxR\">Delhi</span><i class=\"_3TiCf _3TiCf\"></i></div><div class=\"_1fGvW\"><span class=\"_15V6V\"><svg height=\"23\" viewbox=\"0 0 22 23\" width=\"23\" xmlns=\"http://www.w3.org/2000/svg\"><path d=\"M11.538 10.287l1.483 1.434 1.045 1.01c.16.155.235.357.245.57.01.216-.099.417-.245.57a.859.859 0 0 1-.589.237.874.874 0 0 1-.59-.237l-.377-.365-1.654-1.6-.499-.482c-.143.105-.29.204-.44.296a6.493 6.493 0 0 1-.998.477 5.978 5.978 0 0 1-2.088.394 6.162 6.162 0 0 1-1.73-.223 6.06 6.06 0 0 1-1.538-.668 5.872 5.872 0 0 1-1.26-1.029C1.564 9.86 1.03 8.853.859 7.778a6.28 6.28 0 0 1-.09-.94c-.001-.32.035-.634.08-.951.08-.549.263-1.067.5-1.569.464-.975 1.245-1.803 2.169-2.388.464-.293.984-.52 1.513-.676.243-.071.492-.125.744-.161.326-.047.652-.084.982-.084.225 0 .214 1.613 0 1.613-.232 0-.464.015-.695.045l.223-.029c-.453.06-.895.176-1.316.348l.198-.08a5.269 5.269 0 0 0-1.135.642l.168-.126a5.16 5.16 0 0 0-.936.906l.13-.163a5.017 5.017 0 0 0-.664 1.098l.083-.192a4.906 4.906 0 0 0-.36 1.273l.03-.215a4.946 4.946 0 0 0 0 1.344l-.03-.215c.062.438.182.865.36 1.272a27.35 27.35 0 0 1-.083-.192c.172.391.396.76.664 1.098l-.13-.162c.27.338.586.643.936.906l-.168-.127c.349.26.731.476 1.135.643a29.341 29.341 0 0 0-.198-.081c.42.17.863.289 1.316.348l-.223-.028c.46.059.923.059 1.382.001l-.223.028c.45-.059.89-.173 1.308-.342l-.199.08a5.22 5.22 0 0 0 1.157-.652l-.168.127a5.128 5.128 0 0 0 .933-.905l-.13.163c.27-.341.496-.715.67-1.112l-.084.193c.174-.4.292-.82.353-1.25l-.029.215a4.944 4.944 0 0 0 0-1.359l.03.215a4.91 4.91 0 0 0-.354-1.25l.084.192a5.044 5.044 0 0 0-.67-1.111l.13.162a5.181 5.181 0 0 0-.933-.904l.168.126A5.362 5.362 0 0 0 8.329 2.9l.2.081a5.332 5.332 0 0 0-1.309-.343l.223.029a5.336 5.336 0 0 0-.687-.045c-.226 0-.214-1.613 0-1.613.385.002.77.043 1.148.11.313.054.62.136.916.247a5.88 5.88 0 0 1 2.407 1.585c.396.439.74.925.98 1.46.137.308.262.617.349.942.086.324.137.659.168.992a5.532 5.532 0 0 1-.148 1.825c-.063.261-.15.518-.257.765-.13.304-.27.6-.449.88-.102.162-.213.32-.332.472z\" fill=\"#FF645A\" fill-rule=\"nonzero\" stroke=\"#FF645A\" stroke-width=\"0.1\"></path></svg></span><input autocomplete=\"off\" maxlength=\"50\" name=\"header_search\" placeholder=\"Search for Restaurants, Cuisines, Location...\" type=\"text\" value=\"\"/><button class=\"Pu6qC\" type=\"submit\" value=\"Submit\">Search</button></div><div class=\"_2YxZ7\"><ul><li><a class=\"\" href=\"/delhi\">Home</a></li><li><a href=\"/delhi-restaurants\">Book a Table</a></li><li><a href=\"https://www.dineout.co.in/blog\" rel=\"noopener\" target=\"_blank\">Blog</a></li></ul></div><div class=\"_2AO6k\"><button>Login</button></div></div></header><div class=\"_33GLP\"><div class=\"_3hJ6k\"><h2>Food not found</h2><p>The page you are looking is not available.  <br/>Try your search again or <!-- -->use the Go to Home button.</p><a href=\"/\">Go to Home</a></div><img alt=\"Not Found\" class=\"_3-2xn\" src=\"https://im1.dineout.co.in/images/uploads/misc/2020/Sep/21/404_jump_animation_-resize.gif\" title=\"Not Found\"/></div><footer class=\"JAduq\"><div class=\"_3p5zZ\"><h4>Available in</h4><ul class=\"_3LAV0\"><li><a href=\"/delhi\">Delhi</a></li><li><a href=\"/mumbai\">Mumbai</a></li><li><a href=\"/bangalore\">Bangalore</a></li><li><a href=\"/chennai\">Chennai</a></li><li><a href=\"/hyderabad\">Hyderabad</a></li><li><a href=\"/pune\">Pune</a></li><li><a href=\"/kolkata\">Kolkata</a></li><li><a href=\"/ahmedabad\">Ahmedabad</a></li><li><a href=\"/chandigarh\">Chandigarh</a></li><li><a href=\"/goa\">Goa</a></li><li><a href=\"/jaipur\">Jaipur</a></li><li><a href=\"/lucknow\">Lucknow</a></li><li><a href=\"/indore\">Indore</a></li><li><a href=\"/udaipur\">Udaipur</a></li><li><a href=\"/agra\">Agra</a></li><li><a href=\"/vadodara\">Vadodara</a></li><li><a href=\"/nagpur\">Nagpur</a></li><li><a href=\"/kochi\">Kochi</a></li><li><a href=\"/surat\">Surat</a></li><li><a href=\"/ludhiana\">Ludhiana</a></li></ul></div><hr/><div class=\"_3p5zZ akYDu\"><div><h4>Discover</h4><ul><li><a href=\"/delhi-restaurants\">Trending Restaurants</a></li></ul></div><div><h4>About</h4><ul><li><a href=\"/aboutus\">About Us</a></li><li><a href=\"https://www.dineout.co.in/blog\" rel=\"noopener\" target=\"_blank\">Blog</a></li><li><a href=\"/termsandconditions\">Terms &amp; Conditions</a></li><li><a href=\"/privacy-policy\">Privacy Policy</a></li></ul></div><div><h4>Top Cuisines</h4><ul><li><a href=\"/delhi-restaurants/chinese-cuisine\">Chinese</a></li><li><a href=\"/delhi-restaurants/italian-cuisine\">Italian</a></li><li><a href=\"/delhi-restaurants/south-indian-cuisine\">South Indian</a></li><li><a href=\"/delhi-restaurants/mexican-cuisine\">Mexican</a></li><li><a href=\"/delhi-restaurants/bengali-cuisine\">Bengali</a></li><li><a href=\"/delhi-restaurants/thai-cuisine\">Thai</a></li></ul></div><div><h4>Top Facilities </h4><ul class=\"pull-left\"><li><a href=\"/delhi-restaurants/fine-dining\">Fine Dining</a></li><li><a href=\"/delhi-restaurants/5-star\">5 Star</a></li><li><a href=\"/delhi-restaurants/roof-top-feature\">Rooftop</a></li></ul></div><div><h4>Top Locations </h4><ul class=\"pull-left\"><li><a href=\"/delhi-restaurants/west-delhi/rajouri-garden\">Rajouri Garden</a></li><li><a href=\"/delhi-restaurants/south-delhi/hauz-khas-village\">Hauz Khas Village</a></li><li><a href=\"/delhi-restaurants/gurgaon/dlf-cyber-city\">DLF Cyber City</a></li><li><a href=\"/delhi-restaurants/central-delhi/connaught-place\">Connaught Place</a></li><li><a href=\"/delhi-restaurants/central-delhi/khan-market\">Khan Market</a></li><li><a href=\"/delhi-restaurants/west-delhi/dwarka\">Dwarka</a></li></ul></div></div><hr/><div class=\"gj_eg\"><div><img alt=\"logo\" class=\"_3g_kE\" height=\"30\" src=\"https://im1.dineout.co.in/images/uploads/misc/2023/Jun/19/swiggy_dineout_logo.png\" width=\"125\"/></div><div>Find the best Restaurants, Deals, Discounts &amp; Offers</div><div class=\"_2cea0\">Write to us at:<strong><a href=\"mailto:dineout.helpdesk@swiggy.in\"> dineout.helpdesk@swiggy.in</a></strong></div><div><ul><li><a href=\"https://www.youtube.com/channel/UCj_gwlpeh01QMdzbwGLxWTw\" rel=\"noopener\" target=\"_blank\"><svg height=\"30\" viewbox=\"0 0 30 30\" width=\"30\" xmlns=\"http://www.w3.org/2000/svg\"><path d=\"M14.81 0c8.18 0 14.81 6.63 14.81 14.81s-6.63 14.81-14.81 14.81S0 22.99 0 14.81 6.63 0 14.81 0zm5.504 9.704H9.774a2.247 2.247 0 0 0-2.247 2.248v6.028a2.247 2.247 0 0 0 2.246 2.248h10.54a2.247 2.247 0 0 0 2.248-2.248v-6.028a2.247 2.247 0 0 0-2.247-2.248zm-6.774 2.144l4.293 2.83-4.293 2.831v-5.661z\" fill=\"#D42428\" fill-rule=\"nonzero\"></path></svg></a></li><li><a href=\"https://www.facebook.com/dineout.co.in/\" rel=\"noopener\" target=\"_blank\"><svg height=\"30\" viewbox=\"0 0 30 30\" width=\"30\" xmlns=\"http://www.w3.org/2000/svg\"><path d=\"M14.81 0c8.18 0 14.81 6.63 14.81 14.81s-6.63 14.81-14.81 14.81S0 22.99 0 14.81 6.63 0 14.81 0zm3.18 8H15.69c-3.09 0-3.184 2.117-3.185 2.64v2H10.99v2.356h1.513V22h3.108v-7.004h2.086s.195-1.13.29-2.366h-2.364v-1.612c0-.24.338-.564.674-.564h1.693V8z\" fill=\"#3A5A98\" fill-rule=\"nonzero\"></path></svg></a></li><li><a href=\"https://www.instagram.com/dineout_india\" rel=\"noopener\" target=\"_blank\"><svg height=\"30\" viewbox=\"0 0 30 30\" width=\"30\" xmlns=\"http://www.w3.org/2000/svg\"><defs><lineargradient id=\"a\" x1=\"50%\" x2=\"50%\" y1=\"99.709%\" y2=\".777%\"><stop offset=\"0%\" stop-color=\"#E09B3D\"></stop><stop offset=\"30%\" stop-color=\"#C74C4D\"></stop><stop offset=\"60%\" stop-color=\"#C21975\"></stop><stop offset=\"100%\" stop-color=\"#7024C4\"></stop></lineargradient></defs><path d=\"M15 0c8.284 0 15 6.716 15 15 0 8.284-6.716 15-15 15-8.284 0-15-6.716-15-15C0 6.716 6.716 0 15 0zm3.234 7h-6.468l-.212.005A4.772 4.772 0 0 0 7 11.766v6.468l.005.212A4.772 4.772 0 0 0 11.766 23h6.468l.212-.005A4.772 4.772 0 0 0 23 18.234v-6.468l-.005-.212A4.772 4.772 0 0 0 18.234 7zm0 1.61a3.157 3.157 0 0 1 3.156 3.156v6.468l-.005.179a3.157 3.157 0 0 1-3.151 2.977h-6.468l-.179-.005a3.157 3.157 0 0 1-2.977-3.151v-6.468l.005-.179a3.157 3.157 0 0 1 3.151-2.977zM15 10.862A4.143 4.143 0 0 0 10.862 15 4.143 4.143 0 0 0 15 19.138 4.143 4.143 0 0 0 19.138 15 4.143 4.143 0 0 0 15 10.862zm0 1.61a2.529 2.529 0 1 1 0 5.057 2.529 2.529 0 0 1 0-5.058zm4.146-2.57a.992.992 0 1 0 0 1.982.992.992 0 0 0 0-1.983z\" fill=\"url(#a)\" fill-rule=\"nonzero\"></path></svg></a></li><li><a href=\"https://twitter.com/dineout_india\" rel=\"noopener\" target=\"_blank\"><svg height=\"30\" viewbox=\"0 0 30 30\" width=\"30\" xmlns=\"http://www.w3.org/2000/svg\"><g fill=\"none\" fill-rule=\"evenodd\" id=\"Page-1\" stroke=\"none\" stroke-width=\"1\"><g fill=\"#76A9EA\" fill-rule=\"nonzero\" id=\"1.Home-Page\" transform=\"translate(-762.000000, -6663.000000)\"><g id=\"Footer\" transform=\"translate(1.000000, 6015.000000)\"><g id=\"Group-61\" transform=\"translate(647.000000, 648.000000)\"><g id=\"ic-twitter\" transform=\"translate(114.000000, 0.000000)\"><path d=\"M15,4.08562073e-14 C23.2842712,4.08562073e-14 30,6.71572875 30,15 C30,23.2842712 23.2842712,30 15,30 C6.71572875,30 2.84217094e-14,23.2842712 2.84217094e-14,15 C2.84217094e-14,6.71572875 6.71572875,4.08562073e-14 15,4.08562073e-14 Z M17.9167988,9 C17.5526436,9 17.1849777,9.05970578 16.8239823,9.17747594 C15.7054976,9.54239931 14.842487,10.5129157 14.571721,11.7103141 C14.4701399,12.1594411 14.4426381,12.6089784 14.4899178,13.0464105 C14.4953401,13.0966782 14.4727535,13.1317631 14.4588271,13.1482181 C14.434368,13.1770656 14.3996884,13.1936027 14.3636825,13.1936027 C14.3596645,13.1936027 14.3555295,13.1933975 14.3514335,13.1929871 C12.0051231,12.9636824 9.87971943,11.8145993 8.33315225,9.94694179 L8.13473814,9.69927573 C8.06652698,9.61123829 7.94466401,9.60791697 7.87129401,9.68083587 L7.83912299,9.72360943 C7.53352137,10.2751185 7.37202141,10.905907 7.37202141,11.5477749 C7.37202141,12.5314635 7.74772337,13.4584829 8.40031586,14.1342867 C8.19449118,14.0829521 7.9936256,14.0094816 7.80196508,13.9151392 L7.61353017,13.8138862 C7.50908182,13.7528468 7.38357741,13.8138638 7.35270957,13.9262874 L7.34561187,13.9774103 C7.32852564,15.4387452 8.14187691,16.7390591 9.36030441,17.3245861 C9.33576734,17.3252016 9.31123027,17.3254888 9.28665419,17.3254888 C9.15789633,17.3254888 9.02806353,17.3167712 8.89878554,17.299494 L8.70548838,17.2671782 C8.58786452,17.2435524 8.48669725,17.3433025 8.49120607,17.4604538 L8.4998685,17.511418 C8.89534836,18.8102136 9.95843942,19.7675578 11.2306222,19.9849197 C10.174787,20.7304828 8.94524171,21.1237613 7.66553004,21.1237613 L7.26657831,21.123515 C7.1436589,21.123515 7.03969817,21.2078007 7.00837342,21.3330392 C6.97751678,21.4563902 7.03435385,21.5865118 7.13917279,21.6506494 C8.58120362,22.5334332 10.2260456,23 11.896595,23 C13.3588719,23 14.7267063,22.6947414 15.9621421,22.0927594 C17.0947093,21.540881 18.095541,20.7519851 18.9368232,19.7479842 C19.7205271,18.8127167 20.3333687,17.7330475 20.7582619,16.5390139 C21.1632991,15.4008289 21.3773841,14.18636 21.3773841,13.0268779 L21.3773841,12.9716449 C21.3773451,12.7854695 21.4573929,12.6102916 21.5970474,12.4910441 C22.0386692,12.113865 22.432748,11.6810038 22.771834,11.2010332 L22.9686268,10.9074663 C23.0689987,10.749523 22.9106975,10.5515706 22.7455306,10.6286342 C22.3900357,10.7944562 22.0210044,10.9252754 21.6423376,11.019984 C22.007429,10.6550401 22.2932539,10.2100134 22.4775729,9.71437337 L22.5502873,9.49894335 C22.5951918,9.35118124 22.4645624,9.22118672 22.3347584,9.25663412 L22.286465,9.27797041 C21.7596787,9.60665996 21.1922443,9.85323868 20.5998827,10.0109358 C20.5655152,10.0200866 20.5300554,10.0247235 20.4944786,10.0247235 C20.3865779,10.0247235 20.2816809,9.98258068 20.1991755,9.90609163 C19.5689356,9.32179569 18.758354,9 17.9167988,9 Z\" id=\"Combined-Shape\"></path></g></g></g></g></g></svg></a></li></ul></div><div>© 2022 - Swiggy All Rights Reserved</div></div></footer></div><script crossorigin=\"anonymous\" id=\"__NEXT_DATA__\" type=\"application/json\">{\"props\":{\"isServer\":true,\"initialState\":{\"listingData\":{},\"login\":{},\"doPayData\":{\"tipAmount\":0,\"billAmount\":0,\"isCustomTip\":false,\"useWalletSelected\":false},\"menuPageData\":{},\"offerBook\":{},\"dealsData\":{\"calenderDates\":[],\"activeDate\":\"\",\"dealInventory\":\"\",\"activeDateInventory\":\"\",\"slotTabId\":\"\",\"slotId\":\"\",\"slotTiming\":\"\",\"expiryTimerId\":\"\",\"isConfirmCTAVisible\":false,\"isSummaryCTAVisible\":false,\"isDateBlocked\":false,\"variantObj\":{},\"dinerName\":\"\",\"dinerPhone\":\"\",\"dinerEmail\":\"\",\"dinerRequest\":\"\"},\"bookingData\":{\"activeDate\":{},\"offerSlots\":{},\"isSelectedSlotBlocked\":false,\"isAvailableOfferVisible\":false,\"isGuestPopupVisible\":false,\"isContactDetailsVisible\":false,\"totalGuests\":0,\"males\":0,\"females\":0,\"blockMsg\":\"\"},\"homeReducer\":{\"bookingData\":{},\"showDPInlineNudge\":false}},\"initialProps\":{\"pageProps\":{}}},\"page\":\"/responsive/404/view\",\"query\":{\"pageName\":\"404\",\"pageToken\":\"PxeQ1rNb-wI2wB-jNkIp71miYL6CI8WDjXlA\",\"analyticsCategory\":\"NotFound\",\"isServerRendered\":true,\"status\":true,\"config\":{\"showHeaderFlag\":true,\"showFooterFlag\":true,\"hideFooterFlag\":false},\"isMobile\":false,\"statusCode\":404,\"branchKey\":\"key_live_jdo4vGkV3AAZzk945WFCUehlwxoaXbTs\",\"cleverTapKey\":\"48K-44K-5R5Z\",\"gAKey\":\"UA-32580312-1\",\"cityObjList\":[{\"c_id\":\"0\",\"name\":\"Delhi\",\"is_doplus_city\":\"1\",\"latitude\":\"28.63117\",\"longitude\":\"77.21943\",\"suggestion\":\"Delhi\",\"isDineoutCity\":\"1\",\"isGourmetPassportCity\":\"1\"},{\"c_id\":\"1\",\"name\":\"Mumbai\",\"is_doplus_city\":\"1\",\"latitude\":\"19.10904\",\"longitude\":\"72.91962\",\"suggestion\":\"Mumbai\",\"isDineoutCity\":\"1\",\"isGourmetPassportCity\":\"1\"},{\"c_id\":\"2\",\"name\":\"Bangalore\",\"is_doplus_city\":\"1\",\"latitude\":\"12.971650\",\"longitude\":\"77.594595\",\"suggestion\":\"Bangalore\",\"isDineoutCity\":\"1\",\"isGourmetPassportCity\":\"1\"},{\"c_id\":\"3\",\"name\":\"Chennai\",\"is_doplus_city\":\"1\",\"latitude\":\"13.04182\",\"longitude\":\"80.22664\",\"suggestion\":\"Chennai\",\"isDineoutCity\":\"1\",\"isGourmetPassportCity\":\"1\"},{\"c_id\":\"4\",\"name\":\"Hyderabad\",\"is_doplus_city\":\"1\",\"latitude\":\"17.42685\",\"longitude\":\"78.46601\",\"suggestion\":\"Hyderabad\",\"isDineoutCity\":\"1\",\"isGourmetPassportCity\":\"1\"},{\"c_id\":\"5\",\"name\":\"Pune\",\"is_doplus_city\":\"1\",\"latitude\":\"18.54550\",\"longitude\":\"73.83958\",\"suggestion\":\"Pune\",\"isDineoutCity\":\"1\",\"isGourmetPassportCity\":\"1\"},{\"c_id\":\"6\",\"name\":\"Kolkata\",\"is_doplus_city\":\"1\",\"latitude\":\"22.57926\",\"longitude\":\"88.37897\",\"suggestion\":\"Kolkata\",\"isDineoutCity\":\"1\",\"isGourmetPassportCity\":\"1\"},{\"c_id\":\"7\",\"name\":\"Ahmedabad\",\"is_doplus_city\":\"1\",\"latitude\":\"23.02493\",\"longitude\":\"72.54435\",\"suggestion\":\"Ahmedabad\",\"isDineoutCity\":\"1\",\"isGourmetPassportCity\":\"1\"},{\"c_id\":\"9\",\"name\":\"Chandigarh\",\"is_doplus_city\":\"1\",\"latitude\":\"30.741468\",\"longitude\":\"76.782967\",\"suggestion\":\"Chandigarh\",\"isDineoutCity\":\"1\",\"isGourmetPassportCity\":\"1\"},{\"c_id\":\"8\",\"name\":\"Goa\",\"is_doplus_city\":\"1\",\"latitude\":\"15.2993\",\"longitude\":\"74.1240\",\"suggestion\":\"Goa\",\"isDineoutCity\":\"1\",\"isGourmetPassportCity\":\"1\"},{\"c_id\":\"10\",\"name\":\"Jaipur\",\"is_doplus_city\":\"1\",\"latitude\":\"26.9124\",\"longitude\":\"75.7873\",\"suggestion\":\"Jaipur\",\"isDineoutCity\":\"1\",\"isGourmetPassportCity\":\"1\"},{\"c_id\":\"13\",\"name\":\"Lucknow\",\"is_doplus_city\":\"1\",\"latitude\":\"26.8447\",\"longitude\":\"80.9316045\",\"isDineoutCity\":\"1\",\"suggestion\":\"Lucknow\",\"isGourmetPassportCity\":\"1\"},{\"c_id\":\"11\",\"name\":\"Indore\",\"is_doplus_city\":\"1\",\"latitude\":\"22.7213101\",\"longitude\":\"75.7915405\",\"isDineoutCity\":\"1\",\"suggestion\":\"Indore\",\"isGourmetPassportCity\":\"1\"},{\"c_id\":\"16\",\"name\":\"Amritsar\",\"is_doplus_city\":\"0\",\"latitude\":\"\",\"longitude\":\"\",\"isDineoutCity\":\"0\",\"isGourmetPassportCity\":\"1\"},{\"c_id\":\"33\",\"name\":\"Udaipur\",\"is_doplus_city\":\"1\",\"latitude\":\"24.585445\",\"longitude\":\"73.712479\",\"suggestion\":\"Udaipur\",\"isDineoutCity\":\"1\",\"isGourmetPassportCity\":\"1\"},{\"c_id\":\"43\",\"name\":\"Agra\",\"is_doplus_city\":\"1\",\"latitude\":\"27.173504\",\"longitude\":\"77.991381\",\"suggestion\":\"Agra\",\"isDineoutCity\":\"1\",\"isGourmetPassportCity\":\"1\"},{\"c_id\":\"63\",\"name\":\"Vadodara\",\"is_doplus_city\":\"1\",\"latitude\":\"22.32103\",\"longitude\":\"73.172398\",\"suggestion\":\"Vadodara\",\"isDineoutCity\":\"1\",\"isGourmetPassportCity\":\"1\"},{\"c_id\":\"34\",\"name\":\"Khajuraho\",\"is_doplus_city\":\"0\",\"latitude\":\"24.831845\",\"longitude\":\"79.919855\",\"suggestion\":\"\",\"isDineoutCity\":\"0\"},{\"c_id\":\"35\",\"name\":\"Kandla\",\"is_doplus_city\":\"0\",\"latitude\":\"23.008141\",\"longitude\":\"70.187255\",\"suggestion\":\"\",\"isDineoutCity\":\"0\"},{\"c_id\":\"36\",\"name\":\"Nagpur\",\"is_doplus_city\":\"1\",\"latitude\":\"21.1458\",\"longitude\":\"79.088155\",\"suggestion\":\"Nagpur\",\"isDineoutCity\":\"1\",\"isGourmetPassportCity\":\"1\"},{\"c_id\":\"55\",\"name\":\"Kochi\",\"is_doplus_city\":\"1\",\"latitude\":\"9.999494\",\"longitude\":\"76.289749\",\"suggestion\":\"Kochi\",\"isDineoutCity\":\"1\",\"isGourmetPassportCity\":\"1\"},{\"c_id\":\"62\",\"name\":\"Surat\",\"is_doplus_city\":\"1\",\"latitude\":\"21.1591425\",\"longitude\":\"72.6822102\",\"suggestion\":\"Surat\",\"isDineoutCity\":\"1\",\"isGourmetPassportCity\":\"1\"},{\"c_id\":\"15\",\"name\":\"Ludhiana\",\"is_doplus_city\":\"1\",\"latitude\":\"30.9010\",\"longitude\":\"75.8573\",\"suggestion\":\"Ludhiana\",\"isDineoutCity\":\"1\",\"isGourmetPassportCity\":\"1\"},{\"c_id\":\"37\",\"name\":\"Ranchi\",\"is_doplus_city\":\"0\",\"latitude\":\"23.3441\",\"longitude\":\"85.309562\",\"suggestion\":\"\",\"isDineoutCity\":\"0\"},{\"c_id\":\"39\",\"name\":\"Guwahati\",\"is_doplus_city\":\"0\",\"latitude\":\"26.144517\",\"longitude\":\"91.736237\",\"suggestion\":\"\",\"isDineoutCity\":\"0\"},{\"c_id\":\"40\",\"name\":\"Salem\",\"is_doplus_city\":\"0\",\"latitude\":\"44.942898\",\"longitude\":\"-123.035096\",\"suggestion\":\"\",\"isDineoutCity\":\"0\"},{\"c_id\":\"41\",\"name\":\"Raigad\",\"is_doplus_city\":\"0\",\"latitude\":\"18.734888\",\"longitude\":\"73.096602\",\"suggestion\":\"\",\"isDineoutCity\":\"0\"},{\"c_id\":\"42\",\"name\":\"Alibag\",\"is_doplus_city\":\"0\",\"latitude\":\"18.655394\",\"longitude\":\"72.867082\",\"suggestion\":\"\",\"isDineoutCity\":\"0\"}],\"cityNames\":[\"delhi\",\"mumbai\",\"bangalore\",\"chennai\",\"hyderabad\",\"pune\",\"kolkata\",\"ahmedabad\",\"chandigarh\",\"goa\",\"jaipur\",\"lucknow\",\"indore\",\"udaipur\",\"agra\",\"vadodara\",\"nagpur\",\"kochi\",\"surat\",\"ludhiana\"],\"deviceCategory\":\"desktop\",\"os\":null,\"currentUrl\":\"/not_found\",\"isGIRFActive\":false,\"isGPGiftActive\":false,\"isWebView\":false,\"isOlaWebView\":false,\"isCmhWebView\":false,\"isScbWebView\":false,\"isHDFCWebView\":false,\"isPhonePeWebView\":false,\"isHDFCBankWebView\":false,\"isDPActiveForMicrosite\":true,\"locDataObj\":{\"cityName\":\"Delhi\",\"locSuggestion\":\"Delhi\",\"locData\":{\"gps_enabled\":0,\"cityId\":0,\"cityName\":\"Delhi\"},\"whichCorporateSite\":false},\"footerLinks\":{\"city\":\"Delhi\",\"footer\":[{\"Chinese\":\"/delhi-restaurants/chinese-cuisine\",\"Italian\":\"/delhi-restaurants/italian-cuisine\",\"South Indian\":\"/delhi-restaurants/south-indian-cuisine\",\"Mexican\":\"/delhi-restaurants/mexican-cuisine\",\"Bengali\":\"/delhi-restaurants/bengali-cuisine\",\"Thai\":\"/delhi-restaurants/thai-cuisine\"},{\"Fine Dining\":\"/delhi-restaurants/fine-dining\",\"5 Star\":\"/delhi-restaurants/5-star\",\"Rooftop\":\"/delhi-restaurants/roof-top-feature\"},{\"Rajouri Garden\":\"/delhi-restaurants/west-delhi/rajouri-garden\",\"Hauz Khas Village\":\"/delhi-restaurants/south-delhi/hauz-khas-village\",\"DLF Cyber City\":\"/delhi-restaurants/gurgaon/dlf-cyber-city\",\"Connaught Place\":\"/delhi-restaurants/central-delhi/connaught-place\",\"Khan Market\":\"/delhi-restaurants/central-delhi/khan-market\",\"Dwarka\":\"/delhi-restaurants/west-delhi/dwarka\"}]},\"seoData\":{\"meta_title\":\"404 Page Not Found | Dineout\",\"meta_description\":null,\"meta_keywords\":null,\"keywords\":{}},\"userDetails\":false,\"userLoggedIn\":false,\"microData\":false,\"isProduction\":true,\"isLive\":true,\"webThemeColor\":\"\",\"isLoginOpen\":false,\"canonicalUrl\":\"https://dineout.co.in/not_found\"},\"buildId\":\"f-PGh6S9-RHBQMETsIvQA\",\"assetPrefix\":\"https://dn1.dineout-cdn.co.in\",\"isFallback\":false,\"dynamicIds\":[\"DS4o\",\"4bSv\",\"9oE+\",\"O8qu\",\"7ROu\",\"Muaa\",\"oAyq\"],\"customServer\":true,\"appGip\":true,\"head\":[[\"meta\",{\"charSet\":\"utf-8\"}],[\"meta\",{\"name\":\"viewport\",\"content\":\"width=device-width, initial-scale=1.0, minimum-scale=1.0, maximum-scale=1.0, user-scalable=no\"}],[\"script\",{\"type\":\"text/javascript\",\"src\":\"https://dn1.dineout-cdn.co.in/js/countly-385be3ca26.min.js\",\"async\":true}],[\"title\",{\"children\":\"404 Page Not Found | Dineout\"}],[\"meta\",{\"name\":\"description\",\"content\":null}],[\"link\",{\"rel\":\"canonical\",\"href\":\"https://dineout.co.in/not_found\"}]]}</script><script crossorigin=\"anonymous\" nomodule=\"\" src=\"https://dn1.dineout-cdn.co.in/_next/static/chunks/polyfills-a911b9907721c9414362.js\"></script><script async=\"\" crossorigin=\"anonymous\" src=\"https://dn1.dineout-cdn.co.in/_next/static/chunks/190.29dfe00835bc0b276924.js\"></script><script async=\"\" crossorigin=\"anonymous\" src=\"https://dn1.dineout-cdn.co.in/_next/static/chunks/38.921ce4e0df3f27898736.js\"></script><script async=\"\" crossorigin=\"anonymous\" src=\"https://dn1.dineout-cdn.co.in/_next/static/chunks/19.08c2a017950ea8dc1854.js\"></script><script async=\"\" crossorigin=\"anonymous\" src=\"https://dn1.dineout-cdn.co.in/_next/static/chunks/42.7e7fac0c86574c2e0167.js\"></script><script async=\"\" crossorigin=\"anonymous\" src=\"https://dn1.dineout-cdn.co.in/_next/static/chunks/35.0737350d22a26f20cc1e.js\"></script><script async=\"\" crossorigin=\"anonymous\" src=\"https://dn1.dineout-cdn.co.in/_next/static/chunks/37.5e823a0a0dd5bccbb1d0.js\"></script><script async=\"\" crossorigin=\"anonymous\" src=\"https://dn1.dineout-cdn.co.in/_next/static/chunks/41.15d64f63c593d4c52815.js\"></script><script async=\"\" crossorigin=\"anonymous\" src=\"https://dn1.dineout-cdn.co.in/_next/static/chunks/main-938c2b651d2295ff85c6.js\"></script><script async=\"\" crossorigin=\"anonymous\" src=\"https://dn1.dineout-cdn.co.in/_next/static/chunks/webpack-07b573c72850bb90d34b.js\"></script><script async=\"\" crossorigin=\"anonymous\" src=\"https://dn1.dineout-cdn.co.in/_next/static/chunks/framework.97fa84ef20540191e268.js\"></script><script async=\"\" crossorigin=\"anonymous\" src=\"https://dn1.dineout-cdn.co.in/_next/static/chunks/e0a20092a955dd57c8f77fd0038a6e86fb2cd834.d18b4cd5b9181f9df943.js\"></script><script async=\"\" crossorigin=\"anonymous\" src=\"https://dn1.dineout-cdn.co.in/_next/static/chunks/ec70516c3713d024099e871a8920b25b394a9a68.56b8097f8c1fbac35a33.js\"></script><script async=\"\" crossorigin=\"anonymous\" src=\"https://dn1.dineout-cdn.co.in/_next/static/chunks/2a9e534028e6e35175acb4c10f7a083333896c71.0b79bf790a5c6b4d24eb.js\"></script><script async=\"\" crossorigin=\"anonymous\" src=\"https://dn1.dineout-cdn.co.in/_next/static/chunks/8fd36ce948ca388cbd662e9141bcc24ec2109866.5ea802800d7a372fba8f.js\"></script><script async=\"\" crossorigin=\"anonymous\" src=\"https://dn1.dineout-cdn.co.in/_next/static/chunks/5d63be1fc31c50ed26d99b1bd01d59a563557d58.e665dbe8ad6e1f138689.js\"></script><script async=\"\" crossorigin=\"anonymous\" src=\"https://dn1.dineout-cdn.co.in/_next/static/chunks/88309753a87497e60808da84322912ecbf125871.dd55e564ef594f7319c6.js\"></script><script async=\"\" crossorigin=\"anonymous\" src=\"https://dn1.dineout-cdn.co.in/_next/static/chunks/b667d57298fef32cd2b0a8cf68e78f9e2f062f56.f781b24890d3d130b9d2.js\"></script><script async=\"\" crossorigin=\"anonymous\" src=\"https://dn1.dineout-cdn.co.in/_next/static/chunks/f6078781a05fe1bcb0902d23dbbb2662c8d200b3.727f13e8796621b269c5.js\"></script><script async=\"\" crossorigin=\"anonymous\" src=\"https://dn1.dineout-cdn.co.in/_next/static/chunks/895fc371e448b7c7de6d7ac9ed17fb947ae1f963.e61abb7638698ed3eade.js\"></script><script async=\"\" crossorigin=\"anonymous\" src=\"https://dn1.dineout-cdn.co.in/_next/static/chunks/pages/_app-1b5b282b4857edbc94e4.js\"></script><script async=\"\" crossorigin=\"anonymous\" src=\"https://dn1.dineout-cdn.co.in/_next/static/chunks/106eaa6e25e59f5af13bcf8f662f978828e584f5.c8dfbd2c034cdd120f42.js\"></script><script async=\"\" crossorigin=\"anonymous\" src=\"https://dn1.dineout-cdn.co.in/_next/static/chunks/pages/responsive/404/view-905908b853008ef24cf7.js\"></script><script async=\"\" crossorigin=\"anonymous\" src=\"https://dn1.dineout-cdn.co.in/_next/static/f-PGh6S9-RHBQMETsIvQA/_buildManifest.js\"></script><script async=\"\" crossorigin=\"anonymous\" src=\"https://dn1.dineout-cdn.co.in/_next/static/f-PGh6S9-RHBQMETsIvQA/_ssgManifest.js\"></script></body></html>"
      ]
     },
     "execution_count": 14,
     "metadata": {},
     "output_type": "execute_result"
    }
   ],
   "source": [
    "soup= BeautifulSoup(page.content)\n",
    "soup"
   ]
  },
  {
   "cell_type": "code",
   "execution_count": 19,
   "id": "924cbd6e",
   "metadata": {},
   "outputs": [],
   "source": [
    "#first title of the restrau"
   ]
  },
  {
   "cell_type": "code",
   "execution_count": 20,
   "id": "63fcafce",
   "metadata": {},
   "outputs": [],
   "source": [
    "first_title = soup.find('div',class_=\"restnt-info cursor\")\n",
    "first_title"
   ]
  },
  {
   "cell_type": "markdown",
   "id": "f3c5fb6e",
   "metadata": {},
   "source": [
    "Scraping first Location"
   ]
  },
  {
   "cell_type": "code",
   "execution_count": 23,
   "id": "400d3d51",
   "metadata": {},
   "outputs": [],
   "source": [
    "loc = soup.find('div',class_=\"restnt-loc ellipsis\")"
   ]
  },
  {
   "cell_type": "code",
   "execution_count": 24,
   "id": "27c81484",
   "metadata": {},
   "outputs": [],
   "source": [
    "loc"
   ]
  },
  {
   "cell_type": "code",
   "execution_count": 26,
   "id": "53b543e4",
   "metadata": {},
   "outputs": [],
   "source": [
    "#Question 2"
   ]
  },
  {
   "cell_type": "code",
   "execution_count": 27,
   "id": "651f0753",
   "metadata": {},
   "outputs": [],
   "source": [
    "import requests\n",
    "from bs4 import BeautifulSoup\n",
    "import pandas as pd"
   ]
  },
  {
   "cell_type": "code",
   "execution_count": 28,
   "id": "392255b1",
   "metadata": {},
   "outputs": [],
   "source": [
    "#Get request \n",
    "url = \"https://presidentofindia.nic.in/former-presidents.htm\"\n",
    "response = requests.get(url)"
   ]
  },
  {
   "cell_type": "code",
   "execution_count": 29,
   "id": "93b5484f",
   "metadata": {},
   "outputs": [],
   "source": [
    "#create BeautifulSoup\n",
    "soup = BeautifulSoup(response.text,\"html.parser\")"
   ]
  },
  {
   "cell_type": "code",
   "execution_count": 31,
   "id": "6c046c7a",
   "metadata": {},
   "outputs": [],
   "source": [
    "#table with the list of former presidents\n",
    "table = soup.find(\"table\",{\"class\":\"tablepress\"})"
   ]
  },
  {
   "cell_type": "code",
   "execution_count": 35,
   "id": "3d320e8e",
   "metadata": {},
   "outputs": [],
   "source": [
    "#make empty list\n",
    "names = []\n",
    "terms_of_office =[]"
   ]
  },
  {
   "cell_type": "code",
   "execution_count": 37,
   "id": "f22f7210",
   "metadata": {},
   "outputs": [],
   "source": [
    "#create a data frame from exteacted data\n",
    "data ={\"Name\":names,\"Term of Office\": terms_of_office}\n",
    "df = pd.DataFrame(data)"
   ]
  },
  {
   "cell_type": "code",
   "execution_count": 39,
   "id": "9c052417",
   "metadata": {},
   "outputs": [
    {
     "name": "stdout",
     "output_type": "stream",
     "text": [
      "Empty DataFrame\n",
      "Columns: [Name, Term of Office]\n",
      "Index: []\n"
     ]
    }
   ],
   "source": [
    "print(df)"
   ]
  },
  {
   "cell_type": "code",
   "execution_count": null,
   "id": "83f31dec",
   "metadata": {},
   "outputs": [],
   "source": [
    "#Question 3"
   ]
  },
  {
   "cell_type": "code",
   "execution_count": null,
   "id": "f5fa9e21",
   "metadata": {},
   "outputs": [],
   "source": [
    "import requests\n",
    "from bs4 import BeautifulSoap\n",
    "import pandas as pd"
   ]
  },
  {
   "cell_type": "code",
   "execution_count": 41,
   "id": "255b0964",
   "metadata": {},
   "outputs": [],
   "source": [
    "#send request to webpage\n",
    "url =\"https://www.icc-cricket.com/rankings/mens/team-rankings/odi\"\n",
    "response = requests.get(url)"
   ]
  },
  {
   "cell_type": "code",
   "execution_count": 43,
   "id": "6db08023",
   "metadata": {},
   "outputs": [],
   "source": [
    "#create BeautifulSoup object\n",
    "soup = BeautifulSoup(response.text,\"html.parser\")"
   ]
  },
  {
   "cell_type": "code",
   "execution_count": 44,
   "id": "9c1c3503",
   "metadata": {},
   "outputs": [],
   "source": [
    "#find table containing the rankings\n",
    "table=soup.find(\"table\",{\"class\":\"table rankings-table\"})"
   ]
  },
  {
   "cell_type": "code",
   "execution_count": 45,
   "id": "9b1fc3a6",
   "metadata": {},
   "outputs": [],
   "source": [
    "#create empty list\n",
    "teams = []\n",
    "matches = []\n",
    "points = []\n",
    "ratings = []"
   ]
  },
  {
   "cell_type": "code",
   "execution_count": null,
   "id": "9286d559",
   "metadata": {},
   "outputs": [],
   "source": [
    "#extract data from table rows\n",
    "\n",
    "rows = table.find_all(\"tr\")"
   ]
  },
  {
   "cell_type": "code",
   "execution_count": 46,
   "id": "1b43ed6f",
   "metadata": {},
   "outputs": [],
   "source": [
    "#create a data frame\n",
    "data =  {\"Team\":teams,\"Matches\":matches,\"Points\":points,\"Ratings\":ratings}\n",
    "df = pd.DataFrame(data)"
   ]
  },
  {
   "cell_type": "code",
   "execution_count": 47,
   "id": "48dc2b98",
   "metadata": {},
   "outputs": [
    {
     "name": "stdout",
     "output_type": "stream",
     "text": [
      "Empty DataFrame\n",
      "Columns: [Team, Matches, Points, Ratings]\n",
      "Index: []\n"
     ]
    }
   ],
   "source": [
    "print(df)"
   ]
  },
  {
   "cell_type": "code",
   "execution_count": null,
   "id": "67f11942",
   "metadata": {},
   "outputs": [],
   "source": [
    "b. Top ten ODI Batsmen along with the records."
   ]
  },
  {
   "cell_type": "code",
   "execution_count": null,
   "id": "c19ef5e3",
   "metadata": {},
   "outputs": [],
   "source": [
    "import requests\n",
    "from bs4 import BeautifulSoap\n",
    "import pandas as pd"
   ]
  },
  {
   "cell_type": "code",
   "execution_count": null,
   "id": "2f366b10",
   "metadata": {},
   "outputs": [],
   "source": [
    "scrape_rankings(url):\n",
    "    response = requests.get(url)\n",
    "    soup = BeautifulSoap(response.text,'html.parser')\n",
    "    return soup"
   ]
  },
  {
   "cell_type": "code",
   "execution_count": null,
   "id": "47f0bba6",
   "metadata": {},
   "outputs": [],
   "source": [
    "#extracting players name\n",
    "player_names = soup.find_all('td',class_='table-body_cell rankings-table_name')\n",
    "for name in playera_names[:10]:\n",
    "    teams.append(team,get_text(strip=True))"
   ]
  },
  {
   "cell_type": "code",
   "execution_count": null,
   "id": "91436794",
   "metadata": {},
   "outputs": [],
   "source": [
    "#creating a dataframe\n",
    "df =  pd.Dataframe({\n",
    "    'Player':players,\n",
    "    'Team':teams,\n",
    "    'Rating':ratings,\n",
    "})"
   ]
  },
  {
   "cell_type": "raw",
   "id": "f73a1ba6",
   "metadata": {},
   "source": [
    "#question 1 "
   ]
  },
  {
   "cell_type": "code",
   "execution_count": null,
   "id": "a260351d",
   "metadata": {},
   "outputs": [],
   "source": [
    "import requests\n",
    "from bs4 import BeautifulSoup\n",
    "import pandas as pd"
   ]
  },
  {
   "cell_type": "code",
   "execution_count": null,
   "id": "ff959a84",
   "metadata": {},
   "outputs": [],
   "source": [
    "soup = BeautifulSoup(response.content,\n",
    "                    \"html.parser\")"
   ]
  },
  {
   "cell_type": "code",
   "execution_count": null,
   "id": "515a5664",
   "metadata": {},
   "outputs": [],
   "source": [
    "#find all the headers tag using find all method\n",
    "header_tags = soup.find_all([\"h1\", \"h2\", \"h3\", \"h4\", \"h5\", \"h6\"])"
   ]
  },
  {
   "cell_type": "code",
   "execution_count": null,
   "id": "e34e4043",
   "metadata": {},
   "outputs": [],
   "source": [
    "#extract header tags text\n",
    "header_texts = [tag.get_text() for tag in header_tags]"
   ]
  },
  {
   "cell_type": "code",
   "execution_count": null,
   "id": "1478bb72",
   "metadata": {},
   "outputs": [],
   "source": [
    "#display dataframe\n",
    "print(df)"
   ]
  },
  {
   "cell_type": "code",
   "execution_count": null,
   "id": "67e54be0",
   "metadata": {},
   "outputs": [],
   "source": [
    "#question4"
   ]
  },
  {
   "cell_type": "code",
   "execution_count": null,
   "id": "4a384443",
   "metadata": {},
   "outputs": [],
   "source": [
    "import requests\n",
    "from bs4 import BeautifulSoup\n",
    "import pandas as pd"
   ]
  },
  {
   "cell_type": "code",
   "execution_count": 51,
   "id": "d41663bd",
   "metadata": {},
   "outputs": [],
   "source": [
    "def scrape_rankings(url):\n",
    "    response = requests.get(url)\n",
    "    soup = BeautifulSoup(response.text,'html.parser')\n",
    "    return soup"
   ]
  },
  {
   "cell_type": "code",
   "execution_count": null,
   "id": "042bca79",
   "metadata": {},
   "outputs": [],
   "source": [
    "def get_top_women_odi:\n",
    "    teams=[]\n",
    "    matches=[]\n",
    "    points=[]\n",
    "    ratings=[]"
   ]
  },
  {
   "cell_type": "code",
   "execution_count": null,
   "id": "91d711de",
   "metadata": {},
   "outputs": [],
   "source": [
    "#extracting ratings\n",
    "rating_tags=soup.find_all('td',class_='table-body_cell u-text-right rating')\n",
    "for rating in rating_tags[0:10]:\n",
    "    ratings.append(rating.get_text(strip=True))"
   ]
  },
  {
   "cell_type": "code",
   "execution_count": null,
   "id": "faec34b3",
   "metadata": {},
   "outputs": [],
   "source": [
    "#creating a dataframe\n",
    "df=pd.DataFrame({\n",
    "    'Team':teams,\n",
    "    'Matches':matches,\n",
    "    'Points':points,\n",
    "    'Ratings':ratings,\n",
    "})\n",
    "\n",
    "return df"
   ]
  },
  {
   "cell_type": "code",
   "execution_count": null,
   "id": "445bacdd",
   "metadata": {},
   "outputs": [],
   "source": [
    "#Display the dataframe\n",
    "print(\"Top 10 Women's ODI Teams:\")\n",
    "print(top_womens_odi_teams_df)"
   ]
  },
  {
   "cell_type": "code",
   "execution_count": null,
   "id": "5efcbab4",
   "metadata": {},
   "outputs": [],
   "source": [
    "#question 5\n"
   ]
  },
  {
   "cell_type": "code",
   "execution_count": null,
   "id": "5614ac0f",
   "metadata": {},
   "outputs": [],
   "source": [
    "import requests\n",
    "from bs4 import BeautifulSoup\n",
    "import pandas as pd\n",
    "\n"
   ]
  },
  {
   "cell_type": "code",
   "execution_count": null,
   "id": "8359d7f4",
   "metadata": {},
   "outputs": [],
   "source": [
    "def scrape_cnbc_news(url):\n",
    "    response= requests.get(url)\n",
    "    soup= BeautifulSoup(response.text,'html.parser')\n",
    "    return soap"
   ]
  },
  {
   "cell_type": "code",
   "execution_count": null,
   "id": "30e95446",
   "metadata": {},
   "outputs": [],
   "source": [
    "def get_headlines(soup):\n",
    "    headlines=[]"
   ]
  },
  {
   "cell_type": "code",
   "execution_count": null,
   "id": "cb6896e6",
   "metadata": {},
   "outputs": [],
   "source": [
    "#extracting headline details"
   ]
  },
  {
   "cell_type": "code",
   "execution_count": null,
   "id": "8e8c00f0",
   "metadata": {},
   "outputs": [],
   "source": [
    "headline_tags=soup.find_all('h3',class_='Card-title')\n",
    "for headline in headline_tags:\n",
    "    headlines.append(headline.get_text(strip=True))"
   ]
  },
  {
   "cell_type": "code",
   "execution_count": null,
   "id": "8a885504",
   "metadata": {},
   "outputs": [],
   "source": [
    "#creating a Dataframe\n",
    "df=pd.DataFrame({\n",
    "    'Headline':headlines,\n",
    "})\n",
    "\n",
    "return df"
   ]
  },
  {
   "cell_type": "code",
   "execution_count": null,
   "id": "8844d185",
   "metadata": {},
   "outputs": [],
   "source": [
    "(b) TIME"
   ]
  },
  {
   "cell_type": "code",
   "execution_count": null,
   "id": "84bf5d0d",
   "metadata": {},
   "outputs": [],
   "source": [
    "import requests\n",
    "from bs4 import BeautifulSoup\n",
    "import pandas as pd\n"
   ]
  },
  {
   "cell_type": "code",
   "execution_count": null,
   "id": "6de00f9c",
   "metadata": {},
   "outputs": [],
   "source": [
    "def scrap_cnbc_news(url):\n",
    "    soup=BeautifulSoup(response.text,'html.parsar')\n",
    "    return soup"
   ]
  },
  {
   "cell_type": "code",
   "execution_count": null,
   "id": "28f41555",
   "metadata": {},
   "outputs": [],
   "source": [
    "def get_news_details(soup):\n",
    "    headlines=[]\n",
    "    times=[]"
   ]
  },
  {
   "cell_type": "code",
   "execution_count": null,
   "id": "7316fe6a",
   "metadata": {},
   "outputs": [],
   "source": [
    "#creating a dataframe\n",
    "df=pd.DataFrame({\n",
    "    'Headline':headlines,\n",
    "    'Time':times,\n",
    "})\n",
    "\n",
    "return df"
   ]
  },
  {
   "cell_type": "code",
   "execution_count": null,
   "id": "2ab174a7",
   "metadata": {},
   "outputs": [],
   "source": [
    "#Displaying the dataframe\n",
    "print(\"CNBC World News Details:\")\n",
    "print(cnbc_news_df)"
   ]
  },
  {
   "cell_type": "code",
   "execution_count": null,
   "id": "d14416f2",
   "metadata": {},
   "outputs": [],
   "source": []
  }
 ],
 "metadata": {
  "kernelspec": {
   "display_name": "Python 3 (ipykernel)",
   "language": "python",
   "name": "python3"
  },
  "language_info": {
   "codemirror_mode": {
    "name": "ipython",
    "version": 3
   },
   "file_extension": ".py",
   "mimetype": "text/x-python",
   "name": "python",
   "nbconvert_exporter": "python",
   "pygments_lexer": "ipython3",
   "version": "3.11.5"
  }
 },
 "nbformat": 4,
 "nbformat_minor": 5
}
