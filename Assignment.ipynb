{
 "cells": [
  {
   "cell_type": "markdown",
   "id": "2e743dc0",
   "metadata": {},
   "source": [
    "#question 1"
   ]
  },
  {
   "cell_type": "code",
   "execution_count": 1,
   "id": "12270700",
   "metadata": {},
   "outputs": [],
   "source": [
    "import re"
   ]
  },
  {
   "cell_type": "code",
   "execution_count": 2,
   "id": "d4f6356a",
   "metadata": {},
   "outputs": [],
   "source": [
    "sub='Python Exercises, PHP Exercises'"
   ]
  },
  {
   "cell_type": "code",
   "execution_count": 3,
   "id": "6cb92b0d",
   "metadata": {},
   "outputs": [],
   "source": [
    "x= re.sub(\"[,.]\", \".\", sub)"
   ]
  },
  {
   "cell_type": "code",
   "execution_count": 4,
   "id": "88d46fcb",
   "metadata": {},
   "outputs": [
    {
     "name": "stdout",
     "output_type": "stream",
     "text": [
      "Python Exercises. PHP Exercises\n"
     ]
    }
   ],
   "source": [
    "print(x)"
   ]
  },
  {
   "cell_type": "markdown",
   "id": "1c185155",
   "metadata": {},
   "source": [
    "#question 2"
   ]
  },
  {
   "cell_type": "code",
   "execution_count": 5,
   "id": "8ef8ba55",
   "metadata": {},
   "outputs": [],
   "source": [
    "import re"
   ]
  },
  {
   "cell_type": "code",
   "execution_count": 6,
   "id": "6c339d8a",
   "metadata": {},
   "outputs": [],
   "source": [
    "data= {'SUMMARY' : ['hello, world!', 'XXXXX test', '123four, five:; six...']}"
   ]
  },
  {
   "cell_type": "code",
   "execution_count": 7,
   "id": "fb90b155",
   "metadata": {},
   "outputs": [],
   "source": [
    "#this is a function to clean the text using regular expression"
   ]
  },
  {
   "cell_type": "code",
   "execution_count": 9,
   "id": "f8b7561d",
   "metadata": {},
   "outputs": [],
   "source": [
    "def clean_text(text_lists):()"
   ]
  },
  {
   "cell_type": "code",
   "execution_count": 10,
   "id": "9a0b21fe",
   "metadata": {},
   "outputs": [],
   "source": [
    "cleaned_list=()"
   ]
  },
  {
   "cell_type": "code",
   "execution_count": 20,
   "id": "a022b62e",
   "metadata": {},
   "outputs": [],
   "source": [
    "pattern = re.sub(r'[^a-zA-Z\\s]', '', \"'hello, world!', 'test', '123four, five:; six...']\")"
   ]
  },
  {
   "cell_type": "code",
   "execution_count": 21,
   "id": "b5e0926f",
   "metadata": {},
   "outputs": [
    {
     "name": "stdout",
     "output_type": "stream",
     "text": [
      "hello world test four five six\n"
     ]
    }
   ],
   "source": [
    "print(pattern)"
   ]
  },
  {
   "cell_type": "markdown",
   "id": "ed0d05ab",
   "metadata": {},
   "source": [
    "#question 3"
   ]
  },
  {
   "cell_type": "code",
   "execution_count": null,
   "id": "fb52c866",
   "metadata": {},
   "outputs": [],
   "source": [
    "import re"
   ]
  },
  {
   "cell_type": "code",
   "execution_count": 32,
   "id": "83aec05f",
   "metadata": {},
   "outputs": [],
   "source": [
    "def text(): \"Stay true stay you stay healthy\""
   ]
  },
  {
   "cell_type": "code",
   "execution_count": 42,
   "id": "0f4ef42d",
   "metadata": {},
   "outputs": [],
   "source": [
    "pattern =re.compile(r'\\b\\w{4}\\b')"
   ]
  },
  {
   "cell_type": "code",
   "execution_count": 43,
   "id": "2cc8eeac",
   "metadata": {},
   "outputs": [],
   "source": [
    "match = pattern.findall ('Stay true stay you stay healthy')"
   ]
  },
  {
   "cell_type": "code",
   "execution_count": 44,
   "id": "f0a5b644",
   "metadata": {},
   "outputs": [
    {
     "name": "stdout",
     "output_type": "stream",
     "text": [
      "['Stay', 'true', 'stay', 'stay']\n"
     ]
    }
   ],
   "source": [
    "print(match)"
   ]
  },
  {
   "cell_type": "markdown",
   "id": "6516cc16",
   "metadata": {},
   "source": [
    "#question 4"
   ]
  },
  {
   "cell_type": "code",
   "execution_count": 45,
   "id": "81abe38e",
   "metadata": {},
   "outputs": [],
   "source": [
    "import re"
   ]
  },
  {
   "cell_type": "code",
   "execution_count": 46,
   "id": "eee2713f",
   "metadata": {},
   "outputs": [],
   "source": [
    "def find_words (string) : \"Stay true stay you stay healthy about life\""
   ]
  },
  {
   "cell_type": "code",
   "execution_count": 47,
   "id": "4458e39b",
   "metadata": {},
   "outputs": [],
   "source": [
    "pattern = re.compile(r'\\b\\w{3,5}\\b')"
   ]
  },
  {
   "cell_type": "code",
   "execution_count": 48,
   "id": "70aad735",
   "metadata": {},
   "outputs": [],
   "source": [
    "matches= pattern.findall (\"Stay true stay you stay healthy about life\")"
   ]
  },
  {
   "cell_type": "code",
   "execution_count": 49,
   "id": "d4e4a212",
   "metadata": {},
   "outputs": [
    {
     "name": "stdout",
     "output_type": "stream",
     "text": [
      "['Stay', 'true', 'stay', 'you', 'stay', 'about', 'life']\n"
     ]
    }
   ],
   "source": [
    "print(matches)"
   ]
  },
  {
   "cell_type": "markdown",
   "id": "d36b1ab7",
   "metadata": {},
   "source": [
    "#question 5"
   ]
  },
  {
   "cell_type": "code",
   "execution_count": null,
   "id": "203bf8ec",
   "metadata": {},
   "outputs": [],
   "source": [
    "import re"
   ]
  },
  {
   "cell_type": "code",
   "execution_count": 77,
   "id": "d6ffe7b3",
   "metadata": {},
   "outputs": [],
   "source": [
    "def remove_parenthesis (strings):()"
   ]
  },
  {
   "cell_type": "code",
   "execution_count": 78,
   "id": "96a63ffd",
   "metadata": {},
   "outputs": [],
   "source": [
    "#a compiled regular expression to matchparenthesis"
   ]
  },
  {
   "cell_type": "code",
   "execution_count": 79,
   "id": "f2db302d",
   "metadata": {},
   "outputs": [],
   "source": [
    "pattern = re.compile(r'\\(|\\)')"
   ]
  },
  {
   "cell_type": "code",
   "execution_count": 88,
   "id": "58cde35f",
   "metadata": {},
   "outputs": [],
   "source": [
    "#use this pattern to replace parenthesis"
   ]
  },
  {
   "cell_type": "code",
   "execution_count": 89,
   "id": "fac2935e",
   "metadata": {},
   "outputs": [],
   "source": [
    "#sample text"
   ]
  },
  {
   "cell_type": "code",
   "execution_count": 90,
   "id": "dab2bb94",
   "metadata": {},
   "outputs": [],
   "source": [
    "sample_text = [\"example (.com)\", \"hr@fliprobo (.com)\", \"github (.com)\", \"Hello (Data Science World)\", \"Data (Scientist)\"]"
   ]
  },
  {
   "cell_type": "code",
   "execution_count": 91,
   "id": "5aa1f617",
   "metadata": {},
   "outputs": [],
   "source": [
    "#remove parenthesis from sample text"
   ]
  },
  {
   "cell_type": "code",
   "execution_count": 351,
   "id": "0caae53d",
   "metadata": {},
   "outputs": [],
   "source": [
    "result = remove_parenthesis(\"example (.com), hr@fliprobo (.com), github (.com), Hello (Data Science World), Data (Scientist)\")"
   ]
  },
  {
   "cell_type": "code",
   "execution_count": 352,
   "id": "61afeeec",
   "metadata": {},
   "outputs": [
    {
     "name": "stdout",
     "output_type": "stream",
     "text": [
      "None\n"
     ]
    }
   ],
   "source": [
    "print(result)"
   ]
  },
  {
   "cell_type": "markdown",
   "id": "c7578e6e",
   "metadata": {},
   "source": [
    "#question 6"
   ]
  },
  {
   "cell_type": "code",
   "execution_count": null,
   "id": "f5734542",
   "metadata": {},
   "outputs": [],
   "source": [
    "import re"
   ]
  },
  {
   "cell_type": "markdown",
   "id": "d842f925",
   "metadata": {},
   "source": [
    "#question 7"
   ]
  },
  {
   "cell_type": "code",
   "execution_count": 102,
   "id": "4e5a263e",
   "metadata": {},
   "outputs": [],
   "source": [
    "import re"
   ]
  },
  {
   "cell_type": "code",
   "execution_count": 105,
   "id": "47d6277b",
   "metadata": {},
   "outputs": [
    {
     "data": {
      "text/plain": [
       "['Importance', 'Of', 'Regular', 'Expressions', 'In', 'Python']"
      ]
     },
     "execution_count": 105,
     "metadata": {},
     "output_type": "execute_result"
    }
   ],
   "source": [
    "re.findall ('[A-Z][^A-Z]*', 'ImportanceOfRegularExpressionsInPython')"
   ]
  },
  {
   "cell_type": "markdown",
   "id": "d100a79c",
   "metadata": {},
   "source": [
    "#question 8"
   ]
  },
  {
   "cell_type": "code",
   "execution_count": 106,
   "id": "3b2727c3",
   "metadata": {},
   "outputs": [],
   "source": [
    "import re"
   ]
  },
  {
   "cell_type": "code",
   "execution_count": 107,
   "id": "e5a00ad3",
   "metadata": {},
   "outputs": [],
   "source": [
    "def insert_spaces(text): 'RegularExpression1IsAn2ImportantTopic3InPython'"
   ]
  },
  {
   "cell_type": "code",
   "execution_count": 115,
   "id": "62b58c70",
   "metadata": {},
   "outputs": [],
   "source": [
    "pattern= r'([A-Za-z]+)(\\d+)'"
   ]
  },
  {
   "cell_type": "code",
   "execution_count": null,
   "id": "37385808",
   "metadata": {},
   "outputs": [],
   "source": []
  },
  {
   "cell_type": "markdown",
   "id": "bcf5dde6",
   "metadata": {},
   "source": [
    "#question9"
   ]
  },
  {
   "cell_type": "code",
   "execution_count": 353,
   "id": "0e684001",
   "metadata": {},
   "outputs": [],
   "source": [
    "import re"
   ]
  },
  {
   "cell_type": "code",
   "execution_count": 355,
   "id": "c9cb138c",
   "metadata": {},
   "outputs": [],
   "source": [
    "def insert_spaces_around_numberss(text):()"
   ]
  },
  {
   "cell_type": "code",
   "execution_count": 357,
   "id": "f1073e85",
   "metadata": {},
   "outputs": [],
   "source": [
    "pattern= re.compile(r'\\b(\\d\\w+)\\b')"
   ]
  },
  {
   "cell_type": "code",
   "execution_count": null,
   "id": "c95263fd",
   "metadata": {},
   "outputs": [],
   "source": [
    "result_text= pattern.sub(r' \\1r', 'RegularExpression 1 IsAn2ImportantTopic 3 InPython'"
   ]
  },
  {
   "cell_type": "code",
   "execution_count": 358,
   "id": "db45e051",
   "metadata": {},
   "outputs": [
    {
     "name": "stdout",
     "output_type": "stream",
     "text": [
      "RegularExpression1IsAn2ImportantTopic3InPython\n"
     ]
    }
   ],
   "source": [
    "print(result_text)"
   ]
  },
  {
   "cell_type": "markdown",
   "id": "5ea22ffd",
   "metadata": {},
   "source": [
    "#question11"
   ]
  },
  {
   "cell_type": "code",
   "execution_count": 334,
   "id": "0d602c00",
   "metadata": {},
   "outputs": [],
   "source": [
    "import re"
   ]
  },
  {
   "cell_type": "code",
   "execution_count": 337,
   "id": "dd65c232",
   "metadata": {},
   "outputs": [],
   "source": [
    "def match_string(string): 'Hello_python45'"
   ]
  },
  {
   "cell_type": "code",
   "execution_count": 338,
   "id": "57970d5f",
   "metadata": {},
   "outputs": [],
   "source": [
    "pattern= r'^[a-zA-Z0-9_]+$'"
   ]
  },
  {
   "cell_type": "code",
   "execution_count": null,
   "id": "83ebc5f5",
   "metadata": {},
   "outputs": [],
   "source": [
    "if re.match(pattern, string)"
   ]
  },
  {
   "cell_type": "code",
   "execution_count": null,
   "id": "e69e2712",
   "metadata": {},
   "outputs": [],
   "source": [
    "print('Matches the pattern')"
   ]
  },
  {
   "cell_type": "code",
   "execution_count": null,
   "id": "20ba019f",
   "metadata": {},
   "outputs": [],
   "source": [
    "else:"
   ]
  },
  {
   "cell_type": "code",
   "execution_count": null,
   "id": "67f88dc6",
   "metadata": {},
   "outputs": [],
   "source": [
    "print('Does not match the pattern')"
   ]
  },
  {
   "cell_type": "code",
   "execution_count": null,
   "id": "ace848bc",
   "metadata": {},
   "outputs": [],
   "source": [
    "match_string('Hello_python45')"
   ]
  },
  {
   "cell_type": "markdown",
   "id": "d471867b",
   "metadata": {},
   "source": [
    "#question12"
   ]
  },
  {
   "cell_type": "code",
   "execution_count": 329,
   "id": "c7db5581",
   "metadata": {},
   "outputs": [],
   "source": [
    "import re"
   ]
  },
  {
   "cell_type": "code",
   "execution_count": null,
   "id": "83f02c01",
   "metadata": {},
   "outputs": [],
   "source": [
    "def specific_number(string): '4-7657'"
   ]
  },
  {
   "cell_type": "code",
   "execution_count": 330,
   "id": "67e6c7e1",
   "metadata": {},
   "outputs": [],
   "source": [
    "pattern= re.compile(r\"^4\")"
   ]
  },
  {
   "cell_type": "code",
   "execution_count": null,
   "id": "0cef9e9b",
   "metadata": {},
   "outputs": [],
   "source": [
    "if text.match(string):"
   ]
  },
  {
   "cell_type": "code",
   "execution_count": null,
   "id": "9be64175",
   "metadata": {},
   "outputs": [],
   "source": [
    "return True"
   ]
  },
  {
   "cell_type": "code",
   "execution_count": null,
   "id": "04f6a715",
   "metadata": {},
   "outputs": [],
   "source": [
    "else:"
   ]
  },
  {
   "cell_type": "code",
   "execution_count": null,
   "id": "c0a1ecdc",
   "metadata": {},
   "outputs": [],
   "source": [
    "return False"
   ]
  },
  {
   "cell_type": "code",
   "execution_count": null,
   "id": "16a01d7f",
   "metadata": {},
   "outputs": [],
   "source": [
    "print(specific_number('4-7657'))"
   ]
  },
  {
   "cell_type": "code",
   "execution_count": null,
   "id": "6bb2ab1d",
   "metadata": {},
   "outputs": [],
   "source": [
    "True"
   ]
  },
  {
   "cell_type": "markdown",
   "id": "56028313",
   "metadata": {},
   "source": [
    "#question 13"
   ]
  },
  {
   "cell_type": "code",
   "execution_count": 155,
   "id": "3477e13d",
   "metadata": {},
   "outputs": [],
   "source": [
    "import re"
   ]
  },
  {
   "cell_type": "code",
   "execution_count": 156,
   "id": "15b65be4",
   "metadata": {},
   "outputs": [],
   "source": [
    "ip = \"314.05.056..234\""
   ]
  },
  {
   "cell_type": "code",
   "execution_count": 157,
   "id": "95e36c4a",
   "metadata": {},
   "outputs": [],
   "source": [
    "string = re.sub('\\.[0]*', '.', \"314.05.056..234\" )"
   ]
  },
  {
   "cell_type": "code",
   "execution_count": 158,
   "id": "ad4fa0f2",
   "metadata": {},
   "outputs": [
    {
     "name": "stdout",
     "output_type": "stream",
     "text": [
      "314.5.56..234\n"
     ]
    }
   ],
   "source": [
    "print (string)"
   ]
  },
  {
   "cell_type": "markdown",
   "id": "329137f1",
   "metadata": {},
   "source": [
    "#question 14"
   ]
  },
  {
   "cell_type": "code",
   "execution_count": 159,
   "id": "b0b86c8e",
   "metadata": {},
   "outputs": [],
   "source": [
    "import re"
   ]
  },
  {
   "cell_type": "code",
   "execution_count": 173,
   "id": "52d2cb3e",
   "metadata": {},
   "outputs": [],
   "source": [
    "text= 'On August 15th 1947 that India was declared independent from British colonialism, and the reins of control were handed over to the leaders of the Country'"
   ]
  },
  {
   "cell_type": "code",
   "execution_count": 179,
   "id": "91f43142",
   "metadata": {},
   "outputs": [],
   "source": [
    "pattern= r\"\\b(?:January|February|March|April|May|June|July|August|September|October|November|December)\\s\\d{1,2}(?:st|nd|rd|th)?\\s\\d{4}\\b\""
   ]
  },
  {
   "cell_type": "code",
   "execution_count": 182,
   "id": "496e1cec",
   "metadata": {},
   "outputs": [],
   "source": [
    "matches = re.findall(pattern, \"On August 15th 1947 that India was declared independent from British colonialism, and the reins of control were handed over to the leaders of the Country\")"
   ]
  },
  {
   "cell_type": "code",
   "execution_count": 183,
   "id": "c11a2d45",
   "metadata": {},
   "outputs": [
    {
     "name": "stdout",
     "output_type": "stream",
     "text": [
      "['August 15th 1947']\n"
     ]
    }
   ],
   "source": [
    "print(matches)"
   ]
  },
  {
   "cell_type": "markdown",
   "id": "4142e204",
   "metadata": {},
   "source": [
    "#question15"
   ]
  },
  {
   "cell_type": "code",
   "execution_count": 184,
   "id": "cbbd0965",
   "metadata": {},
   "outputs": [],
   "source": [
    "import re"
   ]
  },
  {
   "cell_type": "code",
   "execution_count": 185,
   "id": "45d1400c",
   "metadata": {},
   "outputs": [],
   "source": [
    "def search_words(text,words):()"
   ]
  },
  {
   "cell_type": "code",
   "execution_count": 186,
   "id": "a45aaf76",
   "metadata": {},
   "outputs": [],
   "source": [
    "sample_text= 'The quick brown fox jumps over the lazy dog'"
   ]
  },
  {
   "cell_type": "code",
   "execution_count": 192,
   "id": "ebfe1509",
   "metadata": {},
   "outputs": [],
   "source": [
    "searched_words= ['fox', 'dog']"
   ]
  },
  {
   "cell_type": "code",
   "execution_count": 193,
   "id": "6ce6bc73",
   "metadata": {},
   "outputs": [
    {
     "name": "stdout",
     "output_type": "stream",
     "text": [
      "Found words: ['fox', 'dog']\n"
     ]
    }
   ],
   "source": [
    "print(\"Found words:\", [word for word in searched_words if word in \"The quick brown fox jumps over the lazy dog\"])"
   ]
  },
  {
   "cell_type": "markdown",
   "id": "39e6580b",
   "metadata": {},
   "source": [
    "#question16"
   ]
  },
  {
   "cell_type": "code",
   "execution_count": 242,
   "id": "fbad4c0d",
   "metadata": {},
   "outputs": [],
   "source": [
    "import re"
   ]
  },
  {
   "cell_type": "code",
   "execution_count": 245,
   "id": "ce932d60",
   "metadata": {},
   "outputs": [],
   "source": [
    "sample_string = 'The quick brown fox jumps over the lazy dog'"
   ]
  },
  {
   "cell_type": "code",
   "execution_count": 251,
   "id": "bee325cd",
   "metadata": {},
   "outputs": [],
   "source": [
    "searched_words = 'fox'"
   ]
  },
  {
   "cell_type": "code",
   "execution_count": null,
   "id": "0929109b",
   "metadata": {},
   "outputs": [],
   "source": [
    "match = [match.start() for match in re.finditer(searched_words, sample_string)]"
   ]
  },
  {
   "cell_type": "code",
   "execution_count": null,
   "id": "a61039af",
   "metadata": {},
   "outputs": [],
   "source": [
    "if matches:"
   ]
  },
  {
   "cell_type": "code",
   "execution_count": null,
   "id": "84a6b58a",
   "metadata": {},
   "outputs": [],
   "source": [
    "print(The pattern{searched_words} is found at positions: {match})"
   ]
  },
  {
   "cell_type": "code",
   "execution_count": null,
   "id": "d505a11e",
   "metadata": {},
   "outputs": [],
   "source": [
    "else: "
   ]
  },
  {
   "cell_type": "code",
   "execution_count": null,
   "id": "b8a00ca7",
   "metadata": {},
   "outputs": [],
   "source": [
    "print(The pattern{searched_words} is not found in the string)"
   ]
  },
  {
   "cell_type": "markdown",
   "id": "b0a596d6",
   "metadata": {},
   "source": [
    "#question17"
   ]
  },
  {
   "cell_type": "code",
   "execution_count": 194,
   "id": "c854dc0c",
   "metadata": {},
   "outputs": [],
   "source": [
    "import re"
   ]
  },
  {
   "cell_type": "code",
   "execution_count": 195,
   "id": "5f01198d",
   "metadata": {},
   "outputs": [],
   "source": [
    "text = 'Python exercises, PHP exercises, C# exercises'"
   ]
  },
  {
   "cell_type": "code",
   "execution_count": 196,
   "id": "81ed9428",
   "metadata": {},
   "outputs": [],
   "source": [
    "pattern = 'exercises'"
   ]
  },
  {
   "cell_type": "code",
   "execution_count": 197,
   "id": "bc70f6a4",
   "metadata": {},
   "outputs": [],
   "source": [
    "for match in re.finditer(pattern,text):()"
   ]
  },
  {
   "cell_type": "code",
   "execution_count": null,
   "id": "df067abb",
   "metadata": {},
   "outputs": [],
   "source": [
    "s = match.start()"
   ]
  },
  {
   "cell_type": "code",
   "execution_count": 199,
   "id": "60766116",
   "metadata": {},
   "outputs": [],
   "source": [
    "e = match.end()"
   ]
  },
  {
   "cell_type": "code",
   "execution_count": 200,
   "id": "b4e30609",
   "metadata": {},
   "outputs": [
    {
     "name": "stdout",
     "output_type": "stream",
     "text": [
      "Found \"exercises\" at 36:45,\n"
     ]
    }
   ],
   "source": [
    "print('Found \"%s\" at %d:%d,' % (text[s:e],s,e))"
   ]
  },
  {
   "cell_type": "markdown",
   "id": "4a5ea007",
   "metadata": {},
   "source": [
    "#question18"
   ]
  },
  {
   "cell_type": "code",
   "execution_count": null,
   "id": "3d5008b2",
   "metadata": {},
   "outputs": [],
   "source": [
    "import re"
   ]
  },
  {
   "cell_type": "code",
   "execution_count": null,
   "id": "fd7ad6f3",
   "metadata": {},
   "outputs": [],
   "source": [
    "text = 'Python exercises, PHP exercises, C# exercises'"
   ]
  },
  {
   "cell_type": "code",
   "execution_count": 202,
   "id": "a81cb265",
   "metadata": {},
   "outputs": [],
   "source": [
    "pattern = 'PHP'"
   ]
  },
  {
   "cell_type": "code",
   "execution_count": 203,
   "id": "9191a54d",
   "metadata": {},
   "outputs": [],
   "source": [
    "for match in re.finditer(pattern,text):()"
   ]
  },
  {
   "cell_type": "code",
   "execution_count": 204,
   "id": "2f8b59d2",
   "metadata": {},
   "outputs": [],
   "source": [
    "s = match.start()"
   ]
  },
  {
   "cell_type": "code",
   "execution_count": 205,
   "id": "14dfa671",
   "metadata": {},
   "outputs": [],
   "source": [
    "e = match.end()"
   ]
  },
  {
   "cell_type": "code",
   "execution_count": 206,
   "id": "572bcc53",
   "metadata": {},
   "outputs": [
    {
     "name": "stdout",
     "output_type": "stream",
     "text": [
      "Found \"PHP\" at 18:21,\n"
     ]
    }
   ],
   "source": [
    "print('Found \"%s\" at %d:%d,' % (text[s:e],s,e))"
   ]
  },
  {
   "cell_type": "markdown",
   "id": "7d271c00",
   "metadata": {},
   "source": [
    "#question19"
   ]
  },
  {
   "cell_type": "code",
   "execution_count": 207,
   "id": "3f317e65",
   "metadata": {},
   "outputs": [],
   "source": [
    "import re"
   ]
  },
  {
   "cell_type": "code",
   "execution_count": 208,
   "id": "5bffe88e",
   "metadata": {},
   "outputs": [],
   "source": [
    "def change_date_format(date):()"
   ]
  },
  {
   "cell_type": "code",
   "execution_count": 209,
   "id": "c5f5b439",
   "metadata": {},
   "outputs": [],
   "source": [
    "pattern= re.sub(r'(\\d{4})-(\\d{1,2})-(\\d{1,2})', '\\\\3-\\\\2-\\\\1', \"date\")"
   ]
  },
  {
   "cell_type": "code",
   "execution_count": 210,
   "id": "b0a1075c",
   "metadata": {},
   "outputs": [],
   "source": [
    "date1= \"2022-11-17\""
   ]
  },
  {
   "cell_type": "code",
   "execution_count": 211,
   "id": "4b1b592c",
   "metadata": {},
   "outputs": [
    {
     "name": "stdout",
     "output_type": "stream",
     "text": [
      "Original date in YYYY-MM-DD:  2022-11-17\n"
     ]
    }
   ],
   "source": [
    "print(\"Original date in YYYY-MM-DD: \", \"2022-11-17\")"
   ]
  },
  {
   "cell_type": "code",
   "execution_count": 212,
   "id": "ff6f4cb5",
   "metadata": {},
   "outputs": [
    {
     "name": "stdout",
     "output_type": "stream",
     "text": [
      "New date in DD-MM-YYYY:  17-11-2022\n"
     ]
    }
   ],
   "source": [
    "print(\"New date in DD-MM-YYYY: \", \"17-11-2022\")"
   ]
  },
  {
   "cell_type": "markdown",
   "id": "eea69091",
   "metadata": {},
   "source": [
    "#question20"
   ]
  },
  {
   "cell_type": "code",
   "execution_count": 213,
   "id": "780a6366",
   "metadata": {},
   "outputs": [],
   "source": [
    "import  re"
   ]
  },
  {
   "cell_type": "code",
   "execution_count": 214,
   "id": "14e205cf",
   "metadata": {},
   "outputs": [],
   "source": [
    "def find_decimal_numbers(text): \"01.12 0132.123 2.31875 145.8 3.01 27.25 0.25\""
   ]
  },
  {
   "cell_type": "code",
   "execution_count": 215,
   "id": "a82b19b3",
   "metadata": {},
   "outputs": [],
   "source": [
    "pattern= re.compile(r'\\b\\d+\\.\\d{1,2}\\b')"
   ]
  },
  {
   "cell_type": "code",
   "execution_count": 216,
   "id": "ed373b83",
   "metadata": {},
   "outputs": [],
   "source": [
    "decimal = pattern.findall(\"01.12 0132.123 2.31875 145.8 3.01 27.25 0.25\")"
   ]
  },
  {
   "cell_type": "code",
   "execution_count": 217,
   "id": "fa3612c3",
   "metadata": {},
   "outputs": [
    {
     "name": "stdout",
     "output_type": "stream",
     "text": [
      "['01.12', '145.8', '3.01', '27.25', '0.25']\n"
     ]
    }
   ],
   "source": [
    "print(decimal)"
   ]
  },
  {
   "cell_type": "markdown",
   "id": "713e084e",
   "metadata": {},
   "source": [
    "#question 21"
   ]
  },
  {
   "cell_type": "code",
   "execution_count": 219,
   "id": "9333679d",
   "metadata": {},
   "outputs": [],
   "source": [
    "import re"
   ]
  },
  {
   "cell_type": "code",
   "execution_count": 220,
   "id": "dc82aca0",
   "metadata": {},
   "outputs": [],
   "source": [
    "def sample_string(text): 'One 1, Two 2, Three 3'"
   ]
  },
  {
   "cell_type": "code",
   "execution_count": 224,
   "id": "1d643fc1",
   "metadata": {},
   "outputs": [],
   "source": [
    "pattern = re.split('\\D+', 'One 1, Two 2, Three 3')"
   ]
  },
  {
   "cell_type": "code",
   "execution_count": 222,
   "id": "0b105498",
   "metadata": {},
   "outputs": [
    {
     "name": "stdout",
     "output_type": "stream",
     "text": [
      "['', '1', '2', '3']\n"
     ]
    }
   ],
   "source": [
    "print(pattern)"
   ]
  },
  {
   "cell_type": "markdown",
   "id": "9cd95b76",
   "metadata": {},
   "source": [
    "#question 22"
   ]
  },
  {
   "cell_type": "code",
   "execution_count": 225,
   "id": "5fabe956",
   "metadata": {},
   "outputs": [],
   "source": [
    "import re"
   ]
  },
  {
   "cell_type": "code",
   "execution_count": 226,
   "id": "2ca674db",
   "metadata": {},
   "outputs": [],
   "source": [
    "def sample_text():'My marks in each semester are: 947, 896, 926, 524, 734, 950,642'"
   ]
  },
  {
   "cell_type": "code",
   "execution_count": 233,
   "id": "3bbcebfc",
   "metadata": {},
   "outputs": [],
   "source": [
    "pattern= re.findall(r'\\b\\d+\\b',\"My marks in each semester are: 947, 896, 926, 524, 734, 950,642\")"
   ]
  },
  {
   "cell_type": "code",
   "execution_count": 234,
   "id": "2eeac700",
   "metadata": {},
   "outputs": [],
   "source": [
    "max_value = max(pattern)"
   ]
  },
  {
   "cell_type": "code",
   "execution_count": 235,
   "id": "71bbe136",
   "metadata": {},
   "outputs": [
    {
     "name": "stdout",
     "output_type": "stream",
     "text": [
      "950\n"
     ]
    }
   ],
   "source": [
    "print(max_value)"
   ]
  },
  {
   "cell_type": "markdown",
   "id": "c21f2f25",
   "metadata": {},
   "source": [
    "#question 23"
   ]
  },
  {
   "cell_type": "code",
   "execution_count": null,
   "id": "20492d9e",
   "metadata": {},
   "outputs": [],
   "source": [
    "import re"
   ]
  },
  {
   "cell_type": "code",
   "execution_count": 314,
   "id": "d55b525e",
   "metadata": {},
   "outputs": [],
   "source": [
    "def insert_spaces(spaces): 'RegularExpressionIsAnImportantTopicInPython'"
   ]
  },
  {
   "cell_type": "code",
   "execution_count": 316,
   "id": "83b433cc",
   "metadata": {},
   "outputs": [],
   "source": [
    "pattern= r'([A-Z][a-z]+)'"
   ]
  },
  {
   "cell_type": "code",
   "execution_count": 327,
   "id": "6e35d8e0",
   "metadata": {},
   "outputs": [],
   "source": [
    "result= re.sub (pattern, r'\\1','Regular Expression IsAnImportant Topic In Python')"
   ]
  },
  {
   "cell_type": "code",
   "execution_count": 328,
   "id": "674df3c4",
   "metadata": {},
   "outputs": [
    {
     "name": "stdout",
     "output_type": "stream",
     "text": [
      "Regular Expression IsAnImportant Topic In Python\n"
     ]
    }
   ],
   "source": [
    "print(result)"
   ]
  },
  {
   "cell_type": "markdown",
   "id": "b4334dcc",
   "metadata": {},
   "source": [
    "#question 24"
   ]
  },
  {
   "cell_type": "code",
   "execution_count": 236,
   "id": "84c98d16",
   "metadata": {},
   "outputs": [],
   "source": [
    "import re"
   ]
  },
  {
   "cell_type": "code",
   "execution_count": 237,
   "id": "5cc6a3e2",
   "metadata": {},
   "outputs": [],
   "source": [
    "def sample_text(): \"The Sun Rises From East\""
   ]
  },
  {
   "cell_type": "code",
   "execution_count": 238,
   "id": "3dcddb40",
   "metadata": {},
   "outputs": [],
   "source": [
    "pattern= re.compile(r'\\b[A-Z][a-z]*\\b')"
   ]
  },
  {
   "cell_type": "code",
   "execution_count": 239,
   "id": "959e92ed",
   "metadata": {},
   "outputs": [],
   "source": [
    "result= pattern.findall(\"The Sun Rises From East\")"
   ]
  },
  {
   "cell_type": "code",
   "execution_count": 240,
   "id": "83f91d2d",
   "metadata": {},
   "outputs": [
    {
     "name": "stdout",
     "output_type": "stream",
     "text": [
      "['The', 'Sun', 'Rises', 'From', 'East']\n"
     ]
    }
   ],
   "source": [
    "print(result)"
   ]
  },
  {
   "cell_type": "markdown",
   "id": "0112802f",
   "metadata": {},
   "source": [
    "#question 25"
   ]
  },
  {
   "cell_type": "code",
   "execution_count": 253,
   "id": "ed05e233",
   "metadata": {},
   "outputs": [],
   "source": [
    "import re"
   ]
  },
  {
   "cell_type": "code",
   "execution_count": 264,
   "id": "fc48e371",
   "metadata": {},
   "outputs": [],
   "source": [
    "def remove_continuous_duplicates(text): \"Hello hello world world\""
   ]
  },
  {
   "cell_type": "code",
   "execution_count": 270,
   "id": "dd45ff4a",
   "metadata": {},
   "outputs": [],
   "source": [
    "pattern= r'\\b(\\w+)(\\s+\\1\\b)+'"
   ]
  },
  {
   "cell_type": "code",
   "execution_count": 271,
   "id": "9cfbf04b",
   "metadata": {},
   "outputs": [],
   "source": [
    "original_sentence= re.sub(pattern, r'\\1', \"Hello hello world world\")"
   ]
  },
  {
   "cell_type": "code",
   "execution_count": 274,
   "id": "efcdea65",
   "metadata": {},
   "outputs": [
    {
     "name": "stdout",
     "output_type": "stream",
     "text": [
      "Hello hello world\n"
     ]
    }
   ],
   "source": [
    "print(original_sentence)"
   ]
  },
  {
   "cell_type": "markdown",
   "id": "a54d572e",
   "metadata": {},
   "source": [
    "#question26"
   ]
  },
  {
   "cell_type": "code",
   "execution_count": 275,
   "id": "9d933287",
   "metadata": {},
   "outputs": [],
   "source": [
    "import re"
   ]
  },
  {
   "cell_type": "code",
   "execution_count": 282,
   "id": "60e48724",
   "metadata": {},
   "outputs": [],
   "source": [
    "def check_string(string):'Hello world'"
   ]
  },
  {
   "cell_type": "code",
   "execution_count": 283,
   "id": "89cc5eb2",
   "metadata": {},
   "outputs": [],
   "source": [
    "pattern= r\"\\w$\""
   ]
  },
  {
   "cell_type": "code",
   "execution_count": 284,
   "id": "8a8ea227",
   "metadata": {},
   "outputs": [],
   "source": [
    "result= re.search(pattern,'Hello world')"
   ]
  },
  {
   "cell_type": "code",
   "execution_count": null,
   "id": "e4e68fb4",
   "metadata": {},
   "outputs": [],
   "source": [
    "if match: "
   ]
  },
  {
   "cell_type": "code",
   "execution_count": null,
   "id": "2867226f",
   "metadata": {},
   "outputs": [],
   "source": [
    "return True"
   ]
  },
  {
   "cell_type": "code",
   "execution_count": null,
   "id": "81218c7f",
   "metadata": {},
   "outputs": [],
   "source": [
    "else:"
   ]
  },
  {
   "cell_type": "code",
   "execution_count": null,
   "id": "cf16e8a2",
   "metadata": {},
   "outputs": [],
   "source": [
    "return False"
   ]
  },
  {
   "cell_type": "markdown",
   "id": "2e306495",
   "metadata": {},
   "source": [
    "#question27"
   ]
  },
  {
   "cell_type": "code",
   "execution_count": 285,
   "id": "ab0c1c0d",
   "metadata": {},
   "outputs": [],
   "source": [
    "import re"
   ]
  },
  {
   "cell_type": "code",
   "execution_count": 286,
   "id": "8348b046",
   "metadata": {},
   "outputs": [],
   "source": [
    "sample_text = \"\"\"RT @kapil_kaushik: #Doltiwal I mean #xyzabc is \"hurt\" by #Demonetization as the same has rendered USELESS <ed><U+OOBD><ed><U+0089> \"acquired funds\" No wo\"\"\""
   ]
  },
  {
   "cell_type": "code",
   "execution_count": null,
   "id": "55ed3944",
   "metadata": {},
   "outputs": [],
   "source": [
    "result = re.findall(r'#\\w+', sample_text)"
   ]
  },
  {
   "cell_type": "code",
   "execution_count": 287,
   "id": "ddf1c8b4",
   "metadata": {},
   "outputs": [
    {
     "name": "stdout",
     "output_type": "stream",
     "text": [
      "<re.Match object; span=(10, 11), match='d'>\n"
     ]
    }
   ],
   "source": [
    "print(result)"
   ]
  },
  {
   "cell_type": "markdown",
   "id": "28451faa",
   "metadata": {},
   "source": [
    "#question28"
   ]
  },
  {
   "cell_type": "code",
   "execution_count": 288,
   "id": "ca1bbc64",
   "metadata": {},
   "outputs": [],
   "source": [
    "import re"
   ]
  },
  {
   "cell_type": "code",
   "execution_count": 289,
   "id": "ffe2620f",
   "metadata": {},
   "outputs": [],
   "source": [
    "sample_text = \"@Jags123456 Bharat band on 28??<ed><U+00A0><U+00BD><ed><U+00B8><U+0082>Those who are protesting #demonetization are all different party leaders\""
   ]
  },
  {
   "cell_type": "code",
   "execution_count": 290,
   "id": "77b8b540",
   "metadata": {},
   "outputs": [],
   "source": [
    "pattern= r\"<U\\+\\w{4}>\""
   ]
  },
  {
   "cell_type": "code",
   "execution_count": 291,
   "id": "177a9294",
   "metadata": {},
   "outputs": [],
   "source": [
    "result= re.sub(pattern, \"\", sample_text )"
   ]
  },
  {
   "cell_type": "code",
   "execution_count": 292,
   "id": "67e5c319",
   "metadata": {},
   "outputs": [
    {
     "name": "stdout",
     "output_type": "stream",
     "text": [
      "@Jags123456 Bharat band on 28??<ed><U+00A0><U+00BD><ed><U+00B8><U+0082>Those who are protesting #demonetization are all different party leader\n"
     ]
    }
   ],
   "source": [
    "print(result)"
   ]
  },
  {
   "cell_type": "markdown",
   "id": "b0aa39d4",
   "metadata": {},
   "source": [
    "#question29"
   ]
  },
  {
   "cell_type": "code",
   "execution_count": null,
   "id": "56904a4f",
   "metadata": {},
   "outputs": [],
   "source": [
    "import re"
   ]
  },
  {
   "cell_type": "code",
   "execution_count": 296,
   "id": "6326cb72",
   "metadata": {},
   "outputs": [],
   "source": [
    "def extract_dates(date):'Ron was born and he was admitted to school 15-12-1999'"
   ]
  },
  {
   "cell_type": "code",
   "execution_count": 297,
   "id": "40d7ed5e",
   "metadata": {},
   "outputs": [],
   "source": [
    "pattern= r'\\d{2}-\\d{2}-\\d{4}'"
   ]
  },
  {
   "cell_type": "code",
   "execution_count": 303,
   "id": "0e425018",
   "metadata": {},
   "outputs": [],
   "source": [
    "result= re.findall(pattern, 'Ron was born and he was admitted to school 15-12-1999')"
   ]
  },
  {
   "cell_type": "code",
   "execution_count": 304,
   "id": "5bcf5e8f",
   "metadata": {},
   "outputs": [
    {
     "name": "stdout",
     "output_type": "stream",
     "text": [
      "['15-12-1999']\n"
     ]
    }
   ],
   "source": [
    "print(result)"
   ]
  },
  {
   "cell_type": "markdown",
   "id": "a6b0f309",
   "metadata": {},
   "source": [
    "#question30"
   ]
  },
  {
   "cell_type": "code",
   "execution_count": 305,
   "id": "698558f0",
   "metadata": {},
   "outputs": [],
   "source": [
    "import re"
   ]
  },
  {
   "cell_type": "code",
   "execution_count": 308,
   "id": "45264d65",
   "metadata": {},
   "outputs": [],
   "source": [
    "def remove_words(string):'The following example creates an ArrayList with a capacity of 50 elements. 4 elements are then added to the ArrayList and the ArrayList is trimmed accordingly'"
   ]
  },
  {
   "cell_type": "code",
   "execution_count": 309,
   "id": "ed9c92b6",
   "metadata": {},
   "outputs": [],
   "source": [
    "pattern= re.compile(r'\\b\\w{2,4}\\b')"
   ]
  },
  {
   "cell_type": "code",
   "execution_count": 312,
   "id": "035f6f4a",
   "metadata": {},
   "outputs": [],
   "source": [
    "result= re.sub(pattern, '','The following example creates an ArrayList with a capacity of 50 elements. 4 elements are then added to the ArrayList and the ArrayList is trimmed accordingly' )"
   ]
  },
  {
   "cell_type": "code",
   "execution_count": 313,
   "id": "3af100dd",
   "metadata": {},
   "outputs": [
    {
     "name": "stdout",
     "output_type": "stream",
     "text": [
      " following example creates  ArrayList  a capacity   elements. 4 elements   added   ArrayList   ArrayList  trimmed accordingly\n"
     ]
    }
   ],
   "source": [
    "print(result)"
   ]
  },
  {
   "cell_type": "code",
   "execution_count": null,
   "id": "d56733e5",
   "metadata": {},
   "outputs": [],
   "source": []
  },
  {
   "cell_type": "code",
   "execution_count": null,
   "id": "19e623f7",
   "metadata": {},
   "outputs": [],
   "source": []
  }
 ],
 "metadata": {
  "kernelspec": {
   "display_name": "Python 3 (ipykernel)",
   "language": "python",
   "name": "python3"
  },
  "language_info": {
   "codemirror_mode": {
    "name": "ipython",
    "version": 3
   },
   "file_extension": ".py",
   "mimetype": "text/x-python",
   "name": "python",
   "nbconvert_exporter": "python",
   "pygments_lexer": "ipython3",
   "version": "3.11.5"
  }
 },
 "nbformat": 4,
 "nbformat_minor": 5
}
